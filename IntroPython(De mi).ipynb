{
 "cells": [
  {
   "cell_type": "markdown",
   "metadata": {
    "id": "xSmsDbn61tjz"
   },
   "source": [
    "# Logica de programacion con Python"
   ]
  },
  {
   "cell_type": "markdown",
   "metadata": {
    "id": "04d4BDcC1psU"
   },
   "source": []
  },
  {
   "cell_type": "code",
   "execution_count": null,
   "metadata": {
    "colab": {
     "base_uri": "https://localhost:8080/",
     "height": 35
    },
    "id": "psPNCYWq19Yr",
    "outputId": "9e713c0c-65dd-47f2-a463-ee194ec81844"
   },
   "outputs": [
    {
     "data": {
      "application/vnd.google.colaboratory.intrinsic+json": {
       "type": "string"
      },
      "text/plain": [
       "'Josué'"
      ]
     },
     "execution_count": 5,
     "metadata": {},
     "output_type": "execute_result"
    }
   ],
   "source": [
    "\"Josué\""
   ]
  },
  {
   "cell_type": "code",
   "execution_count": null,
   "metadata": {
    "id": "5JIVBkh12WPa"
   },
   "outputs": [],
   "source": [
    "nombre = \"Josué\""
   ]
  },
  {
   "cell_type": "code",
   "execution_count": null,
   "metadata": {
    "colab": {
     "base_uri": "https://localhost:8080/",
     "height": 35
    },
    "id": "GjdVPsE72bws",
    "outputId": "30e105b0-00f8-4b60-bbb9-9acb40706009"
   },
   "outputs": [
    {
     "data": {
      "application/vnd.google.colaboratory.intrinsic+json": {
       "type": "string"
      },
      "text/plain": [
       "'Josué'"
      ]
     },
     "execution_count": 4,
     "metadata": {},
     "output_type": "execute_result"
    }
   ],
   "source": [
    "nombre"
   ]
  },
  {
   "cell_type": "code",
   "execution_count": null,
   "metadata": {
    "colab": {
     "base_uri": "https://localhost:8080/"
    },
    "id": "jbyagA9V2ph3",
    "outputId": "acb60ff2-b737-4ced-c9e9-5706630c34e1"
   },
   "outputs": [
    {
     "data": {
      "text/plain": [
       "21"
      ]
     },
     "execution_count": 7,
     "metadata": {},
     "output_type": "execute_result"
    }
   ],
   "source": [
    "edad = 21\n",
    "edad"
   ]
  },
  {
   "cell_type": "code",
   "execution_count": null,
   "metadata": {
    "colab": {
     "base_uri": "https://localhost:8080/"
    },
    "id": "egWeNTQH27NV",
    "outputId": "e90ed387-ba14-40ea-b1a3-dd9717dfb4da"
   },
   "outputs": [
    {
     "name": "stdout",
     "output_type": "stream",
     "text": [
      "Mi nombre es Josué y mi edad es 22.\n"
     ]
    }
   ],
   "source": [
    "print (f'Mi nombre es {nombre} y mi edad es {edad}.')"
   ]
  },
  {
   "cell_type": "code",
   "execution_count": null,
   "metadata": {
    "id": "zBozkVTa36Gg"
   },
   "outputs": [],
   "source": [
    "edad = 22"
   ]
  },
  {
   "cell_type": "markdown",
   "metadata": {
    "id": "Q8cWWG0K5CyO"
   },
   "source": [
    "# Mi primera Funcion"
   ]
  },
  {
   "cell_type": "code",
   "execution_count": null,
   "metadata": {
    "id": "o5dDWcXN5Fi4"
   },
   "outputs": [],
   "source": [
    "def saludos():\n",
    "  nombre = input('Cual es su nombre? ')\n",
    "  print(f'Hola {nombre}')"
   ]
  },
  {
   "cell_type": "code",
   "execution_count": null,
   "metadata": {
    "colab": {
     "base_uri": "https://localhost:8080/"
    },
    "id": "KV0ISCKG5ZOI",
    "outputId": "7e9a6100-0f88-493f-994a-8f7c50cc57cf"
   },
   "outputs": [
    {
     "name": "stdout",
     "output_type": "stream",
     "text": [
      "Cual es su nombre? Messi\n",
      "Hola Messi\n"
     ]
    }
   ],
   "source": [
    "saludos()"
   ]
  },
  {
   "cell_type": "markdown",
   "metadata": {
    "id": "1uQRR0ef5vYK"
   },
   "source": [
    "# PARAMETROS\n"
   ]
  },
  {
   "cell_type": "code",
   "execution_count": null,
   "metadata": {
    "id": "BVQt7LvF5zY9"
   },
   "outputs": [],
   "source": [
    "nombre = 'Juan'"
   ]
  },
  {
   "cell_type": "code",
   "execution_count": null,
   "metadata": {
    "id": "L8ZcxqBA58q5"
   },
   "outputs": [],
   "source": [
    "def saludos_con_parametros(nombre_de_la_persona):\n",
    "  print(f'Hola {nombre_de_la_persona}')"
   ]
  },
  {
   "cell_type": "code",
   "execution_count": null,
   "metadata": {
    "colab": {
     "base_uri": "https://localhost:8080/"
    },
    "id": "b4XQRYYV6TMt",
    "outputId": "fcb894a9-b3e2-477b-f7fd-b30b46ec590c"
   },
   "outputs": [
    {
     "name": "stdout",
     "output_type": "stream",
     "text": [
      "Hola Juan\n"
     ]
    }
   ],
   "source": [
    "saludos_con_parametros(nombre)"
   ]
  },
  {
   "cell_type": "markdown",
   "metadata": {
    "id": "qmVMIU3k6pIe"
   },
   "source": [
    "# CONDICIONAL"
   ]
  },
  {
   "cell_type": "code",
   "execution_count": null,
   "metadata": {
    "colab": {
     "base_uri": "https://localhost:8080/"
    },
    "id": "W7RN9JKo6rUL",
    "outputId": "2ed8ece5-4a2c-4bde-e258-d2aba2bcd765"
   },
   "outputs": [
    {
     "name": "stdout",
     "output_type": "stream",
     "text": [
      "Tiene autorizacion para conducir\n"
     ]
    }
   ],
   "source": [
    "edad = 21\n",
    "def verifica_si_puede_conducir(edad):\n",
    "  if edad >= 18:\n",
    "    print('Tiene autorizacion para conducir')\n",
    "  else:\n",
    "      print('No tiene la autorizacion para conducir')\n",
    "\n",
    "verifica_si_puede_conducir(edad)"
   ]
  },
  {
   "cell_type": "markdown",
   "metadata": {
    "id": "mEn45VVG8lyT"
   },
   "source": [
    "# CONVIRTIENDO TIPO ENTERO"
   ]
  },
  {
   "cell_type": "code",
   "execution_count": null,
   "metadata": {
    "colab": {
     "base_uri": "https://localhost:8080/"
    },
    "id": "ovSLPxfO8p1I",
    "outputId": "407c131a-e04b-453d-9b51-7817e346856b"
   },
   "outputs": [
    {
     "name": "stdout",
     "output_type": "stream",
     "text": [
      " ¿Cual es su edad? 21\n",
      "Tiene autorizacion para conducir\n"
     ]
    }
   ],
   "source": [
    "def verifica_si_puede_conducir_sin_parametros():\n",
    "  edad = input(' ¿Cual es su edad? ')\n",
    "  edad = int(edad)\n",
    "  if edad >= 18:\n",
    "    print( 'Tiene autorizacion para conducir')\n",
    "  else:\n",
    "    print( 'No tiene autorizacion para conducir')\n",
    "\n",
    "verifica_si_puede_conducir_sin_parametros()"
   ]
  },
  {
   "cell_type": "markdown",
   "metadata": {
    "id": "lLUiQuRU-wKh"
   },
   "source": [
    "# LISTA"
   ]
  },
  {
   "cell_type": "code",
   "execution_count": null,
   "metadata": {
    "colab": {
     "base_uri": "https://localhost:8080/"
    },
    "id": "E9wLc2R_-xuW",
    "outputId": "733d9d8f-6800-430e-fff5-157814d36217"
   },
   "outputs": [
    {
     "data": {
      "text/plain": [
       "22"
      ]
     },
     "execution_count": 41,
     "metadata": {},
     "output_type": "execute_result"
    }
   ],
   "source": [
    "edad = 22\n",
    "edad"
   ]
  },
  {
   "cell_type": "code",
   "execution_count": null,
   "metadata": {
    "colab": {
     "base_uri": "https://localhost:8080/"
    },
    "id": "drWs0bZ7_E9O",
    "outputId": "e96bd8e8-4263-4fca-8e3a-16c7facc2ff4"
   },
   "outputs": [
    {
     "data": {
      "text/plain": [
       "int"
      ]
     },
     "execution_count": 42,
     "metadata": {},
     "output_type": "execute_result"
    }
   ],
   "source": [
    "type(edad)"
   ]
  },
  {
   "cell_type": "code",
   "execution_count": null,
   "metadata": {
    "colab": {
     "base_uri": "https://localhost:8080/"
    },
    "id": "dgdTDJW7_vxe",
    "outputId": "b3049509-2d93-4b5c-cd7c-766817c53f55"
   },
   "outputs": [
    {
     "data": {
      "text/plain": [
       "str"
      ]
     },
     "execution_count": 43,
     "metadata": {},
     "output_type": "execute_result"
    }
   ],
   "source": [
    "nombre = 'Sara'\n",
    "type(nombre)"
   ]
  },
  {
   "cell_type": "code",
   "execution_count": null,
   "metadata": {
    "colab": {
     "base_uri": "https://localhost:8080/"
    },
    "id": "3LEn-g_k_7ad",
    "outputId": "0544515b-76da-4811-cc5d-6630900db609"
   },
   "outputs": [
    {
     "data": {
      "text/plain": [
       "list"
      ]
     },
     "execution_count": 44,
     "metadata": {},
     "output_type": "execute_result"
    }
   ],
   "source": [
    "edades =  [18, 22, 15, 50]\n",
    "type(edades)"
   ]
  },
  {
   "cell_type": "code",
   "execution_count": null,
   "metadata": {
    "colab": {
     "base_uri": "https://localhost:8080/"
    },
    "id": "tJo6ZokvAVZc",
    "outputId": "ce7be41d-ec9f-47ce-b24c-e1cb59b8c852"
   },
   "outputs": [
    {
     "data": {
      "text/plain": [
       "15"
      ]
     },
     "execution_count": 45,
     "metadata": {},
     "output_type": "execute_result"
    }
   ],
   "source": [
    "edades[2]"
   ]
  },
  {
   "cell_type": "code",
   "execution_count": null,
   "metadata": {
    "id": "7wa-iPhzA3at"
   },
   "outputs": [],
   "source": [
    "edades =  [18, 22, 15, 50]\n",
    "#          0   1   2   3\n",
    "#          0  -3  -2  -1"
   ]
  },
  {
   "cell_type": "code",
   "execution_count": null,
   "metadata": {
    "colab": {
     "base_uri": "https://localhost:8080/"
    },
    "id": "FD38sHowBXJb",
    "outputId": "03281e82-c6f3-4bfe-c549-ac551d7b43d7"
   },
   "outputs": [
    {
     "data": {
      "text/plain": [
       "15"
      ]
     },
     "execution_count": 50,
     "metadata": {},
     "output_type": "execute_result"
    }
   ],
   "source": [
    "edades[-2]"
   ]
  },
  {
   "cell_type": "code",
   "execution_count": null,
   "metadata": {
    "colab": {
     "base_uri": "https://localhost:8080/"
    },
    "id": "TEX-2wIRBn2d",
    "outputId": "f4c58ab9-cf22-4974-eb67-34c508a905e8"
   },
   "outputs": [
    {
     "data": {
      "text/plain": [
       "[18, 22]"
      ]
     },
     "execution_count": 52,
     "metadata": {},
     "output_type": "execute_result"
    }
   ],
   "source": [
    "edades[0:2]"
   ]
  },
  {
   "cell_type": "code",
   "execution_count": null,
   "metadata": {
    "colab": {
     "base_uri": "https://localhost:8080/"
    },
    "id": "w1l6YuYWB-cp",
    "outputId": "d8a4d093-e70f-489a-ec73-0af7c98cea67"
   },
   "outputs": [
    {
     "data": {
      "text/plain": [
       "[22, 15, 50]"
      ]
     },
     "execution_count": 53,
     "metadata": {},
     "output_type": "execute_result"
    }
   ],
   "source": [
    "edades[1:]"
   ]
  },
  {
   "cell_type": "markdown",
   "metadata": {
    "id": "Fdm2j2acCT2W"
   },
   "source": [
    "# LAZOS Y LOOPS"
   ]
  },
  {
   "cell_type": "code",
   "execution_count": null,
   "metadata": {
    "colab": {
     "base_uri": "https://localhost:8080/"
    },
    "id": "DS0z7DakCWgZ",
    "outputId": "18ce5e61-514e-4323-e642-08259f1306bf"
   },
   "outputs": [
    {
     "data": {
      "text/plain": [
       "[18, 22, 15, 50]"
      ]
     },
     "execution_count": 54,
     "metadata": {},
     "output_type": "execute_result"
    }
   ],
   "source": [
    "edades"
   ]
  },
  {
   "cell_type": "code",
   "execution_count": null,
   "metadata": {
    "colab": {
     "base_uri": "https://localhost:8080/"
    },
    "id": "sC2vFm5YC1T_",
    "outputId": "5e11c198-7da8-464b-f7c2-476d541d5836"
   },
   "outputs": [
    {
     "name": "stdout",
     "output_type": "stream",
     "text": [
      "18 años de edad,  TIENE autorizacion para conducir\n",
      "22 años de edad,  TIENE autorizacion para conducir\n",
      "15 años de edad,  NO TIENE autorizacion para conducir\n",
      "50 años de edad,  TIENE autorizacion para conducir\n"
     ]
    }
   ],
   "source": [
    "# for fuera  de la funcion\n",
    "def verifica_si_puede_conducir(edad):\n",
    "  if edad >=18:\n",
    "    print(f'{edad} años de edad,  TIENE autorizacion para conducir' )\n",
    "  else:\n",
    "    print(f'{edad} años de edad,  NO TIENE autorizacion para conducir' )\n",
    "\n",
    "for edad in edades:\n",
    "  verifica_si_puede_conducir(edad)"
   ]
  },
  {
   "cell_type": "code",
   "execution_count": null,
   "metadata": {
    "colab": {
     "base_uri": "https://localhost:8080/"
    },
    "id": "lEHCA8maEtxE",
    "outputId": "d3f6f675-5868-48f2-e987-83b7c2b314ac"
   },
   "outputs": [
    {
     "name": "stdout",
     "output_type": "stream",
     "text": [
      "18 años de edad,  TIENE autorizacion para conducir\n",
      "22 años de edad,  TIENE autorizacion para conducir\n",
      "15 años de edad,  NO TIENE autorizacion para conducir\n",
      "50 años de edad,  TIENE autorizacion para conducir\n"
     ]
    }
   ],
   "source": [
    "def verifica_si_puede_conducir(edades):\n",
    "  for edad in edades:\n",
    "    if edad >= 18:\n",
    "       print(f'{edad} años de edad,  TIENE autorizacion para conducir' )\n",
    "    else:\n",
    "       print(f'{edad} años de edad,  NO TIENE autorizacion para conducir' )\n",
    "\n",
    "verifica_si_puede_conducir(edades)\n"
   ]
  },
  {
   "cell_type": "markdown",
   "metadata": {
    "id": "MkvJPhAmFgS9"
   },
   "source": [
    "# BOOLEANO"
   ]
  },
  {
   "cell_type": "code",
   "execution_count": null,
   "metadata": {
    "colab": {
     "base_uri": "https://localhost:8080/"
    },
    "id": "xnDi4mhSFjHM",
    "outputId": "a5bc03e8-167c-42af-bccd-aab38f953d81"
   },
   "outputs": [
    {
     "data": {
      "text/plain": [
       "True"
      ]
     },
     "execution_count": 59,
     "metadata": {},
     "output_type": "execute_result"
    }
   ],
   "source": [
    "edad = 18\n",
    "edad >= 18"
   ]
  },
  {
   "cell_type": "code",
   "execution_count": null,
   "metadata": {
    "colab": {
     "base_uri": "https://localhost:8080/"
    },
    "id": "Y5mNlME1F5jk",
    "outputId": "f82afa4e-fcb5-40ab-ce1f-9d58ec8f850d"
   },
   "outputs": [
    {
     "data": {
      "text/plain": [
       "False"
      ]
     },
     "execution_count": 60,
     "metadata": {},
     "output_type": "execute_result"
    }
   ],
   "source": [
    "edad = 15\n",
    "edad >= 18"
   ]
  },
  {
   "cell_type": "code",
   "execution_count": null,
   "metadata": {
    "id": "8m8Jlac8GAyK"
   },
   "outputs": [],
   "source": [
    "autorizaciones = []\n",
    "edades = [20, 14, 40]\n",
    "\n",
    "def verifica_si_puede_conducir(edades, autorizaciones):\n",
    "  for edad in edades:\n",
    "    if edad >= 18:\n",
    "      autorizaciones.append(True)\n",
    "    else:\n",
    "      autorizaciones.append(False)\n",
    "\n",
    "verifica_si_puede_conducir(edades, autorizaciones)"
   ]
  },
  {
   "cell_type": "code",
   "execution_count": null,
   "metadata": {
    "colab": {
     "base_uri": "https://localhost:8080/"
    },
    "id": "uqbs0w3dHBYx",
    "outputId": "3c286d9c-434f-41bf-9b36-633dae7dbf06"
   },
   "outputs": [
    {
     "data": {
      "text/plain": [
       "[True, False, True]"
      ]
     },
     "execution_count": 62,
     "metadata": {},
     "output_type": "execute_result"
    }
   ],
   "source": [
    "autorizaciones"
   ]
  },
  {
   "cell_type": "code",
   "execution_count": null,
   "metadata": {
    "colab": {
     "base_uri": "https://localhost:8080/"
    },
    "id": "vu_W9t6zHVFX",
    "outputId": "659298d0-6510-4b62-f73d-4a4ea2b58ed8"
   },
   "outputs": [
    {
     "name": "stdout",
     "output_type": "stream",
     "text": [
      "TIENE autorizacion para conducir\n",
      "NO TIENE autorizacion para conducir\n",
      "TIENE autorizacion para conducir\n"
     ]
    }
   ],
   "source": [
    "for autorizacion in autorizaciones:\n",
    "  if autorizacion == True:\n",
    "    print('TIENE autorizacion para conducir')\n",
    "  else:\n",
    "    print('NO TIENE autorizacion para conducir')"
   ]
  },
  {
   "cell_type": "markdown",
   "metadata": {
    "id": "Rq59Z-CUH18N"
   },
   "source": [
    "# TIPOS EN UNA LISTA"
   ]
  },
  {
   "cell_type": "code",
   "execution_count": null,
   "metadata": {
    "colab": {
     "base_uri": "https://localhost:8080/"
    },
    "id": "XpVhVXgnH4nI",
    "outputId": "12bdffe2-a26a-4f2d-e538-8925de36ba1d"
   },
   "outputs": [
    {
     "name": "stdout",
     "output_type": "stream",
     "text": [
      "El elemento Mauricio es del tipo:  <class 'str'>\n",
      "El elemento 28 es del tipo:  <class 'int'>\n",
      "El elemento True es del tipo:  <class 'bool'>\n",
      "El elemento 18 es del tipo:  <class 'str'>\n"
     ]
    }
   ],
   "source": [
    "lista = ['Mauricio', 28, True, '18']\n",
    "\n",
    "for elemento in lista:\n",
    "  print(f'El elemento {elemento} es del tipo: ',  type(elemento))"
   ]
  },
  {
   "cell_type": "markdown",
   "metadata": {
    "id": "m_CnpjkEIsr4"
   },
   "source": [
    "# IMPORT"
   ]
  },
  {
   "cell_type": "code",
   "execution_count": null,
   "metadata": {
    "id": "PrkMt1Y7Iukg"
   },
   "outputs": [],
   "source": [
    "from random import randrange, seed"
   ]
  },
  {
   "cell_type": "code",
   "execution_count": null,
   "metadata": {
    "id": "Je1PsxzgJEDo"
   },
   "outputs": [],
   "source": [
    "seed(11)"
   ]
  },
  {
   "cell_type": "code",
   "execution_count": null,
   "metadata": {
    "colab": {
     "base_uri": "https://localhost:8080/"
    },
    "id": "8M1hCM3NJIDN",
    "outputId": "484133f6-8f22-49c7-a50b-32812a197e11"
   },
   "outputs": [
    {
     "data": {
      "text/plain": [
       "8"
      ]
     },
     "execution_count": 75,
     "metadata": {},
     "output_type": "execute_result"
    }
   ],
   "source": [
    "randrange(0,11)"
   ]
  },
  {
   "cell_type": "code",
   "execution_count": null,
   "metadata": {
    "id": "eLlLhA85J15m"
   },
   "outputs": [],
   "source": [
    "notas_matematicas = []\n",
    "\n",
    "for notas in range(8):\n",
    " notas_matematicas.append(randrange(0,11))\n"
   ]
  },
  {
   "cell_type": "code",
   "execution_count": null,
   "metadata": {
    "colab": {
     "base_uri": "https://localhost:8080/"
    },
    "id": "PqJQWOXiKZG9",
    "outputId": "ff45c729-3a41-48d2-d3e0-2af0e23fc0f5"
   },
   "outputs": [
    {
     "data": {
      "text/plain": [
       "[7, 10, 9, 2, 1, 7, 4, 2]"
      ]
     },
     "execution_count": 77,
     "metadata": {},
     "output_type": "execute_result"
    }
   ],
   "source": [
    "notas_matematicas"
   ]
  },
  {
   "cell_type": "code",
   "execution_count": null,
   "metadata": {
    "colab": {
     "base_uri": "https://localhost:8080/"
    },
    "id": "rto360zGKeLT",
    "outputId": "12350a2b-120c-4408-cda0-3266f2b35edb"
   },
   "outputs": [
    {
     "data": {
      "text/plain": [
       "8"
      ]
     },
     "execution_count": 78,
     "metadata": {},
     "output_type": "execute_result"
    }
   ],
   "source": [
    "len(notas_matematicas)"
   ]
  },
  {
   "cell_type": "markdown",
   "metadata": {
    "id": "YKppezDbKixL"
   },
   "source": [
    "# MATPLOTLIP"
   ]
  },
  {
   "cell_type": "code",
   "execution_count": null,
   "metadata": {
    "id": "pd5e1jm5Kl38"
   },
   "outputs": [],
   "source": [
    "import matplotlib.pyplot as plt\n"
   ]
  },
  {
   "cell_type": "code",
   "execution_count": null,
   "metadata": {
    "colab": {
     "base_uri": "https://localhost:8080/",
     "height": 472
    },
    "id": "-wRNTumpLLHM",
    "outputId": "c49d6553-910c-4a98-95d5-95fabd2c14d8"
   },
   "outputs": [
    {
     "data": {
      "image/png": "[encoded data removed]",
      "text/plain": [
       "<Figure size 640x480 with 1 Axes>"
      ]
     },
     "metadata": {},
     "output_type": "display_data"
    }
   ],
   "source": [
    "x = list(range(1,9))\n",
    "y = notas_matematicas\n",
    "#plt.plot(x, y, marker='o')\n",
    "plt.bar(x,y)\n",
    "plt.title('Notas de matematicas')\n",
    "plt.xlabel('Examenes')\n",
    "plt.ylabel('Notas')\n",
    "plt.show()"
   ]
  },
  {
   "cell_type": "code",
   "execution_count": null,
   "metadata": {
    "colab": {
     "base_uri": "https://localhost:8080/"
    },
    "id": "gJma_g831KPq",
    "outputId": "c5a3d3c2-d870-46d2-cf63-e5409d5b66b9"
   },
   "outputs": [
    {
     "name": "stdout",
     "output_type": "stream",
     "text": [
      "Brasil gano 5 titulos mundiales de futbol\n"
     ]
    }
   ],
   "source": [
    "print('Brasil gano 5 titulos mundiales de futbol')"
   ]
  },
  {
   "cell_type": "code",
   "execution_count": null,
   "metadata": {
    "colab": {
     "base_uri": "https://localhost:8080/"
    },
    "id": "D5YKaqJF1khp",
    "outputId": "87436978-61c4-4738-da98-d14f368f412b"
   },
   "outputs": [
    {
     "name": "stdout",
     "output_type": "stream",
     "text": [
      "Brasil gano 5 titulos mundiales de futbol\n"
     ]
    }
   ],
   "source": [
    "print('Brasil gano 5 titulos mundiales de futbol', sep='-')"
   ]
  },
  {
   "cell_type": "code",
   "execution_count": null,
   "metadata": {
    "colab": {
     "base_uri": "https://localhost:8080/"
    },
    "id": "fprfNAM61z4m",
    "outputId": "e69ada66-beeb-40d1-ae17-caf906ce13e1"
   },
   "outputs": [
    {
     "name": "stdout",
     "output_type": "stream",
     "text": [
      "Brasil-gano-5-titulos mundiales-de futbol\n"
     ]
    }
   ],
   "source": [
    "print('Brasil', 'gano', 5, 'titulos mundiales', 'de futbol', sep='-')"
   ]
  },
  {
   "cell_type": "code",
   "execution_count": null,
   "metadata": {
    "id": "Fcu-S-Jw27uD"
   },
   "outputs": [],
   "source": [
    "# pais = \"Argentina\"\n",
    "# titulo= 3\n",
    "pais = \"Italia\"\n",
    "titulo = 4"
   ]
  },
  {
   "cell_type": "code",
   "execution_count": null,
   "metadata": {
    "colab": {
     "base_uri": "https://localhost:8080/"
    },
    "id": "pQmeGOqo3zJV",
    "outputId": "cfe31f0b-cb9c-475b-e7fd-707724f30402"
   },
   "outputs": [
    {
     "name": "stdout",
     "output_type": "stream",
     "text": [
      "Italia gano 4 titulos mundiales de futbol\n"
     ]
    }
   ],
   "source": [
    "print(pais, 'gano',titulo, 'titulos mundiales', 'de futbol')"
   ]
  },
  {
   "cell_type": "code",
   "execution_count": null,
   "metadata": {
    "id": "jJk3__4p4sH9"
   },
   "outputs": [],
   "source": [
    "print('=================================')\n",
    "print('Bienvenido al Juego de Adivinanza')\n",
    "print('=================================')\n",
    "\n",
    "\n",
    "\n",
    "numero_secreto = 77\n",
    "entrada = int (input('Digite un numero '))\n",
    "print ('Digitaste. . . . ', entrada)\n",
    "if(entrada == numero_secreto):\n",
    "  print('Felicitaciones!!!!!!! ...... adivinaste el numero')\n",
    "else:\n",
    "  print('Lo Siento.... no lograste adivninar el numero')\n",
    "\n",
    "print('Fin del Juego')\n"
   ]
  },
  {
   "cell_type": "code",
   "execution_count": null,
   "metadata": {
    "colab": {
     "base_uri": "https://localhost:8080/"
    },
    "id": "xd5ywq5v7ID2",
    "outputId": "6f5a1e04-4d9e-4a41-bbb3-8e4770a64430"
   },
   "outputs": [
    {
     "data": {
      "text/plain": [
       "int"
      ]
     },
     "execution_count": 10,
     "metadata": {},
     "output_type": "execute_result"
    }
   ],
   "source": [
    "# comparando si las variables son del mismo tipo\n",
    "type(numero_secreto)"
   ]
  },
  {
   "cell_type": "markdown",
   "metadata": {
    "id": "52TFV6847ii4"
   },
   "source": [
    "# Guiar al usuario si el numero ingresado fue mayor o menor al numero que se tiene que adivinar"
   ]
  },
  {
   "cell_type": "code",
   "execution_count": null,
   "metadata": {
    "colab": {
     "base_uri": "https://localhost:8080/"
    },
    "id": "ZhH72ABU7tMz",
    "outputId": "7c5ae531-21d4-4199-a454-e3c00d989d97"
   },
   "outputs": [
    {
     "name": "stdout",
     "output_type": "stream",
     "text": [
      "=================================\n",
      "Bienvenido al Juego de Adivinanza\n",
      "=================================\n",
      "2077\n",
      "Digitaste...... 77\n",
      "Lo siento...... el numero que ingresaste es menor que el secreto\n",
      "Fin del Juego\n"
     ]
    }
   ],
   "source": [
    "print('=================================')\n",
    "print('Bienvenido al Juego de Adivinanza')\n",
    "print('=================================')\n",
    "numero_secreto = 77\n",
    "\n",
    "entrada = int (input(entrada))\n",
    "print ('Digitaste......', entrada)\n",
    "\n",
    "acertatste = entrada == numero_secreto #Iguales\n",
    "mayor = entrada > numero_secreto #entrada es Mayor\n",
    "menor = entrada < numero_secreto #entrada es Menor\n",
    "\n",
    "\n",
    "if(acertaste):\n",
    "  print('Felicitaciones!!!!.... Adivinaste el numero secreto')\n",
    "elif(mayor):\n",
    "  print('Lo Siento..... El numero que ingresaste es mayor al numero secreto')\n",
    "else:\n",
    "  print('Lo siento...... el numero que ingresaste es menor que el secreto')\n",
    "print('Fin del Juego')"
   ]
  },
  {
   "cell_type": "code",
   "execution_count": null,
   "metadata": {
    "colab": {
     "base_uri": "https://localhost:8080/"
    },
    "id": "tPXMQi_L-jeZ",
    "outputId": "20dbfbbf-1db0-4141-8445-7dc7795e125f"
   },
   "outputs": [
    {
     "name": "stdout",
     "output_type": "stream",
     "text": [
      "Intento:  1  de 6\n",
      "Digite un número77\n",
      "Digitaste ...  77\n",
      "Felicitaciones, adivinaste el número\n",
      "Fin del juego\n"
     ]
    }
   ],
   "source": [
    "numero_secreto=77\n",
    "total_intentos=6\n",
    "iteracion=1\n",
    "\n",
    "while(iteracion<=total_intentos):\n",
    "  print(\"Intento: \",iteracion,\" de\",total_intentos)\n",
    "  entrada=input(\"Digite un número\" )\n",
    "  entrada=int (entrada)\n",
    "  print(\"Digitaste ... \", entrada)\n",
    "\n",
    "  acertaste=entrada==numero_secreto #Iguales\n",
    "  mayor=entrada>numero_secreto #Entrada es mayor\n",
    "  menor=entrada<numero_secreto #Entrada es menor\n",
    "\n",
    "  if(acertaste):\n",
    "    print(\"Felicitaciones, adivinaste el número\")\n",
    "    break\n",
    "  elif(mayor):\n",
    "    print(\"Lo siento, el número que ingresaste es mayor al secreto\")\n",
    "  else:\n",
    "    print(\"Lo siento, el número que ingresaste es menor al secreto\")\n",
    "\n",
    "  iteracion = iteracion + 1\n",
    "print(\"Fin del juego\")\n"
   ]
  },
  {
   "cell_type": "markdown",
   "metadata": {
    "id": "fDlsce2XCPVv"
   },
   "source": [
    "# MEJORANDO AUN EL CODIGO..... FORMATEANDO LOS STRINGS"
   ]
  },
  {
   "cell_type": "code",
   "execution_count": null,
   "metadata": {
    "colab": {
     "base_uri": "https://localhost:8080/"
    },
    "id": "HTcMgNR7CZOv",
    "outputId": "9a6c3fcf-494f-4983-fffd-fd115ab50c57"
   },
   "outputs": [
    {
     "name": "stdout",
     "output_type": "stream",
     "text": [
      "Intento: 1 de 6 \n",
      "Digite un número77\n",
      "Digitaste ...  77\n",
      "Felicitaciones, adivinaste el número\n",
      "Fin del juego\n"
     ]
    }
   ],
   "source": [
    "numero_secreto=77\n",
    "total_intentos=6\n",
    "iteracion=1\n",
    "\n",
    "\n",
    "while(iteracion<=total_intentos):\n",
    "  print(\"Intento: {} de {} \" .format(iteraccion,total_intentos))\n",
    "  entrada=input(\"Digite un número\" )\n",
    "  entrada=int (entrada)\n",
    "  print(\"Digitaste ... \", entrada)\n",
    "\n",
    "\n",
    "  acertaste=entrada==numero_secreto #Iguales\n",
    "  mayor=entrada>numero_secreto #Entrada es mayor\n",
    "  menor=entrada<numero_secreto #Entrada es menor\n",
    "\n",
    "  if(acertaste):\n",
    "    print(\"Felicitaciones, adivinaste el número\")\n",
    "    break\n",
    "  elif(mayor):\n",
    "    print(\"Lo siento, el número que ingresaste es mayor al secreto\")\n",
    "  else:\n",
    "    print(\"Lo siento, el número que ingresaste es menor al secreto\")\n",
    "\n",
    "  iteracion = iteracion + 1\n",
    "print(\"Fin del juego\")"
   ]
  },
  {
   "cell_type": "markdown",
   "metadata": {
    "id": "tbRxc9VRD4ql"
   },
   "source": [
    "# Utilizando otra sentencia para LOOPS for i range(n1, n2, n3) y controlar que el número ingresado sea positivo y si adivinó del total de intentos, para el juego"
   ]
  },
  {
   "cell_type": "code",
   "execution_count": null,
   "metadata": {
    "colab": {
     "base_uri": "https://localhost:8080/"
    },
    "id": "DXqJJ7rQFHio",
    "outputId": "ec31b265-a544-43c4-bf04-708b4a4aab0a"
   },
   "outputs": [
    {
     "name": "stdout",
     "output_type": "stream",
     "text": [
      "20\n",
      "18\n",
      "16\n",
      "14\n",
      "12\n",
      "10\n",
      "8\n",
      "6\n"
     ]
    }
   ],
   "source": [
    "for i in range(20, 4, -2):\n",
    "  print(i)"
   ]
  },
  {
   "cell_type": "code",
   "execution_count": null,
   "metadata": {
    "colab": {
     "base_uri": "https://localhost:8080/"
    },
    "id": "4-QR12E8GTUW",
    "outputId": "36a96db4-e2f1-4518-87a3-90957f195647"
   },
   "outputs": [
    {
     "name": "stdout",
     "output_type": "stream",
     "text": [
      "Intento: 1 de 6 \n",
      "Digite un número 55\n",
      "Digitaste ...  55\n",
      "Lo siento, el número que ingresaste es menor al secreto\n",
      "Intento: 2 de 6 \n",
      "Digite un número 88\n",
      "Digitaste ...  88\n",
      "Lo siento, el número que ingresaste es mayor al secreto\n",
      "Intento: 3 de 6 \n",
      "Digite un número 75\n",
      "Digitaste ...  75\n",
      "Lo siento, el número que ingresaste es menor al secreto\n",
      "Intento: 4 de 6 \n",
      "Digite un número 77\n",
      "Digitaste ...  77\n",
      "Felicitaciones, adivinaste el número\n",
      "Fin del juego\n"
     ]
    }
   ],
   "source": [
    "numero_secreto=77\n",
    "total_intentos=6\n",
    "iteracion=1\n",
    "\n",
    "for iteraccion in range (1, total_intentos +1):\n",
    "  print(\"Intento: {} de {} \" .format(iteraccion,total_intentos))\n",
    "  entrada=input(\"Digite un número \")\n",
    "  entrada=int ( entrada)\n",
    "  print(\"Digitaste ... \", entrada)\n",
    "  if(entrada < 1 or entrada > 100):\n",
    "    print('Ingrese un numero entre 1 y 100')\n",
    "    continue\n",
    "\n",
    "  acertaste=entrada==numero_secreto #Iguales\n",
    "  mayor=entrada>numero_secreto #Entrada es mayor\n",
    "  menor=entrada<numero_secreto #Entrada es menor\n",
    "\n",
    "  if(acertaste):\n",
    "    print(\"Felicitaciones, adivinaste el número\")\n",
    "    break\n",
    "  elif(mayor):\n",
    "    print(\"Lo siento, el número que ingresaste es mayor al secreto\")\n",
    "  else:\n",
    "    print(\"Lo siento, el número que ingresaste es menor al secreto\")\n",
    "\n",
    "  iteracion = iteracion + 1\n",
    "print(\"Fin del juego\")"
   ]
  },
  {
   "cell_type": "markdown",
   "metadata": {
    "id": "omKKdD-9H3ty"
   },
   "source": [
    "# Generar un numero aleatorio... RANDOOOOM\n"
   ]
  },
  {
   "cell_type": "code",
   "execution_count": null,
   "metadata": {
    "colab": {
     "base_uri": "https://localhost:8080/"
    },
    "id": "gdzJy73zIABq",
    "outputId": "76aea846-c729-4711-c293-c6ac62a9fc78"
   },
   "outputs": [
    {
     "data": {
      "text/plain": [
       "0.9906219896642693"
      ]
     },
     "execution_count": 34,
     "metadata": {},
     "output_type": "execute_result"
    }
   ],
   "source": [
    "# Generar numero random\n",
    "import random\n",
    "random.random()"
   ]
  },
  {
   "cell_type": "code",
   "execution_count": null,
   "metadata": {
    "colab": {
     "base_uri": "https://localhost:8080/"
    },
    "id": "ApeHzpPkItDC",
    "outputId": "5665d692-b6fc-435d-b4b2-1352959acec7"
   },
   "outputs": [
    {
     "data": {
      "text/plain": [
       "51.102948302616056"
      ]
     },
     "execution_count": 35,
     "metadata": {},
     "output_type": "execute_result"
    }
   ],
   "source": [
    "# Genera un numero entre 1 y 100\n",
    "numero_random = random.random()*100\n",
    "numero_random"
   ]
  },
  {
   "cell_type": "code",
   "execution_count": null,
   "metadata": {
    "colab": {
     "base_uri": "https://localhost:8080/"
    },
    "id": "3EUmN4W1JFkh",
    "outputId": "0252cf41-6009-4d26-9df9-9215b927fdca"
   },
   "outputs": [
    {
     "data": {
      "text/plain": [
       "54"
      ]
     },
     "execution_count": 39,
     "metadata": {},
     "output_type": "execute_result"
    }
   ],
   "source": [
    "# Genera un numero random entre 0 y 100\n",
    "numero_random = round(random.random()*100)\n",
    "numero_random"
   ]
  },
  {
   "cell_type": "code",
   "execution_count": null,
   "metadata": {
    "colab": {
     "base_uri": "https://localhost:8080/"
    },
    "id": "nTX7vw8PJwUa",
    "outputId": "d0e46ece-a669-4027-ca59-f51db79729d8"
   },
   "outputs": [
    {
     "data": {
      "text/plain": [
       "59"
      ]
     },
     "execution_count": 41,
     "metadata": {},
     "output_type": "execute_result"
    }
   ],
   "source": [
    "# Genera un numero random entre 1 y 100\n",
    "numero_random = random.randrange(1,101)\n",
    "numero_random"
   ]
  },
  {
   "cell_type": "markdown",
   "metadata": {
    "id": "SlYmHSEQKGyK"
   },
   "source": [
    "# Mejorando el codigo, generando el Numero Secreto manera aleatoria, tenemos...."
   ]
  },
  {
   "cell_type": "code",
   "execution_count": null,
   "metadata": {
    "id": "3LnVP1gsKZi-"
   },
   "outputs": [],
   "source": [
    "import random\n",
    "print('=================================')\n",
    "print('Bienvenido al Juego de Adivinanza')\n",
    "print('=================================')\n",
    "\n",
    "numero_secreto= random.randrange(1,101)\n",
    "total_intentos = 15\n",
    "\n",
    "for iteraccion in range (1, total_intentos +1):\n",
    "  print(\"Intento: {} de {} \" .format(iteraccion,total_intentos))\n",
    "  entrada=input(\"Digite un número \")\n",
    "  entrada=int ( entrada)\n",
    "  print(\"Digitaste ... \", entrada)\n",
    "  if(entrada < 1 or entrada > 100):\n",
    "    print('Ingrese un numero entre 1 y 100: ')\n",
    "    continue\n",
    "\n",
    "\n",
    "  acertaste=entrada==numero_secreto #Iguales\n",
    "  mayor=entrada>numero_secreto #Entrada es mayor\n",
    "  menor=entrada<numero_secreto #Entrada es menor\n",
    "\n",
    "  if(acertaste):\n",
    "    print(\"Felicitaciones, adivinaste el número\")\n",
    "    break\n",
    "  elif(mayor):\n",
    "    print(\"Lo siento, el número que ingresaste es mayor al secreto\")\n",
    "  else:\n",
    "    print(\"Lo siento, el número que ingresaste es menor al secreto\")\n",
    "\n",
    "  iteracion = iteracion + 1\n",
    "print(\"Fin del juego\")"
   ]
  },
  {
   "cell_type": "markdown",
   "metadata": {
    "id": "CCKfeEBoMtPP"
   },
   "source": [
    "# Definiendo el nivel de dificultad"
   ]
  },
  {
   "cell_type": "code",
   "execution_count": null,
   "metadata": {
    "colab": {
     "base_uri": "https://localhost:8080/"
    },
    "id": "xWl4mcG4Mwo_",
    "outputId": "4ceae41f-ea08-4c78-f046-fb15140c5a2c"
   },
   "outputs": [
    {
     "name": "stdout",
     "output_type": "stream",
     "text": [
      "=================================\n",
      "Bienvenido al Juego de Adivinanza\n",
      "=================================\n",
      "Seleccione el nivel de dificultad\n",
      " (1) Facil  (2) Medio  (3) Dificil\n",
      "Ingrese el nivel de dificultad: 3\n",
      "Intento: 1 de 5 \n",
      "Digite un número 55\n",
      "Digitaste ...  55\n",
      "Lo siento, el número que ingresaste es mayor al secreto\n",
      "Intento: 2 de 5 \n",
      "Digite un número 25\n",
      "Digitaste ...  25\n",
      "Lo siento, el número que ingresaste es mayor al secreto\n",
      "Intento: 3 de 5 \n",
      "Digite un número 10\n",
      "Digitaste ...  10\n",
      "Lo siento, el número que ingresaste es menor al secreto\n",
      "Intento: 4 de 5 \n",
      "Digite un número 15\n",
      "Digitaste ...  15\n",
      "Lo siento, el número que ingresaste es menor al secreto\n",
      "Intento: 5 de 5 \n",
      "Digite un número 20\n",
      "Digitaste ...  20\n",
      "Lo siento, el número que ingresaste es mayor al secreto\n",
      "Fin del juego\n"
     ]
    }
   ],
   "source": [
    "import random\n",
    "print('=================================')\n",
    "print('Bienvenido al Juego de Adivinanza')\n",
    "print('=================================')\n",
    "\n",
    "numero_secreto= random.randrange(1,101)\n",
    "\n",
    "print ('Seleccione el nivel de dificultad')\n",
    "print(' (1) Facil  (2) Medio  (3) Dificil')\n",
    "\n",
    "nivel = int(input('Ingrese el nivel de dificultad: '))\n",
    "\n",
    "if (nivel == 1):\n",
    "  total_intentos = 20\n",
    "elif(nivel == 2):\n",
    "  total_intentos = 10\n",
    "else:\n",
    "  total_intentos = 5\n",
    "\n",
    "\n",
    "\n",
    "for iteraccion in range (1, total_intentos +1):\n",
    "  print(\"Intento: {} de {} \" .format(iteraccion,total_intentos))\n",
    "  entrada=input(\"Digite un número \")\n",
    "  entrada=int ( entrada)\n",
    "  print(\"Digitaste ... \", entrada)\n",
    "  if(entrada < 1 or entrada > 100):\n",
    "    print('Ingrese un numero entre 1 y 100: ')\n",
    "    continue\n",
    "\n",
    "\n",
    "  acertaste=entrada==numero_secreto #Iguales\n",
    "  mayor=entrada>numero_secreto #Entrada es mayor\n",
    "  menor=entrada<numero_secreto #Entrada es menor\n",
    "\n",
    "  if(acertaste):\n",
    "    print(\"Felicitaciones, adivinaste el número\")\n",
    "    break\n",
    "  elif(mayor):\n",
    "    print(\"Lo siento, el número que ingresaste es mayor al secreto\")\n",
    "  else:\n",
    "    print(\"Lo siento, el número que ingresaste es menor al secreto\")\n",
    "\n",
    "\n",
    "print(\"Fin del juego\")"
   ]
  },
  {
   "cell_type": "markdown",
   "metadata": {},
   "source": [
    "## Juego del Ahorcado"
   ]
  },
  {
   "cell_type": "code",
   "execution_count": null,
   "metadata": {},
   "outputs": [],
   "source": [
    "print(\"°°°°°°°°°°°°°°°°°°°°°°°°°°°°°°°°°°\")\n",
    "print(\"Bienvenido al juego del ahorcado\")\n",
    "print(\"°°°°°°°°°°°°°°°°°°°°°°°°°°°°°°°°°°\")\n",
    "\n",
    "print(\"Fin del juego\")"
   ]
  },
  {
   "cell_type": "markdown",
   "metadata": {},
   "source": [
    "# Crear set de Juegos"
   ]
  },
  {
   "cell_type": "code",
   "execution_count": null,
   "metadata": {},
   "outputs": [],
   "source": [
    "import ahorcado\n",
    "import adivinanza\n",
    "\n",
    "\n",
    "\n",
    "print('*********************************')\n",
    "print('Elija su Juego')\n",
    "print('*********************************')\n",
    "\n",
    "\n",
    "print('(1) Ahorcado (2) Adivinanza')\n",
    "\n",
    "juego = int(inpu(\"¿Cual juego?\"))\n",
    "\n",
    "if (juego == 1):\n",
    "    print(\"Jugando Ahorcado\")\n",
    "elif (juego == 2):\n",
    "    print(\"Jugando Adivinanza\")\n"
   ]
  },
  {
   "cell_type": "code",
   "execution_count": null,
   "metadata": {},
   "outputs": [],
   "source": [
    "def jugar():\n",
    "    print(\"°°°°°°°°°°°°°°°°°°°°°°°°°°°°°°°°°°\")\n",
    "    print(\"Bienvenido al juego del ahorcado\")\n",
    "    print(\"°°°°°°°°°°°°°°°°°°°°°°°°°°°°°°°°°°\")  \n",
    "    \n",
    "    palabra_secreta = 'mandarina'\n",
    "    \n",
    "    ahorcado = False\n",
    "    acerto = False\n",
    "    \n",
    "    while(not ahorcado and not acerto):\n",
    "        \n",
    "        entrada = input('Ingrese una letra .....')\n",
    "        for letra in palabra_secreta:\n",
    "            \n",
    "            if(entrada==letra):\n",
    "                \n",
    "                print(entrada)\n",
    "        print('jugando.......')\n",
    "        \n",
    "        \n",
    "    print(\"Fin del juego\")\n",
    "    \n",
    "if(__name__ == \"__main__\"):\n",
    "    jugar()\n",
    "    "
   ]
  },
  {
   "cell_type": "code",
   "execution_count": 8,
   "metadata": {},
   "outputs": [
    {
     "ename": "AttributeError",
     "evalue": "'str' object has no attribute 'capatalize'",
     "output_type": "error",
     "traceback": [
      "\u001b[1;31m---------------------------------------------------------------------------\u001b[0m",
      "\u001b[1;31mAttributeError\u001b[0m                            Traceback (most recent call last)",
      "Cell \u001b[1;32mIn[8], line 2\u001b[0m\n\u001b[0;32m      1\u001b[0m palabra\u001b[38;5;241m=\u001b[39m \u001b[38;5;124m'\u001b[39m\u001b[38;5;124mmandarina\u001b[39m\u001b[38;5;124m'\u001b[39m\n\u001b[1;32m----> 2\u001b[0m palabra\u001b[38;5;241m.\u001b[39mcapatalize()\n",
      "\u001b[1;31mAttributeError\u001b[0m: 'str' object has no attribute 'capatalize'"
     ]
    }
   ],
   "source": [
    "palabra= 'mandarina'\n",
    "palabra.capatalize()"
   ]
  },
  {
   "cell_type": "code",
   "execution_count": 9,
   "metadata": {},
   "outputs": [
    {
     "data": {
      "text/plain": [
       "True"
      ]
     },
     "execution_count": 9,
     "metadata": {},
     "output_type": "execute_result"
    }
   ],
   "source": [
    "palabra.endswith('na')"
   ]
  },
  {
   "cell_type": "code",
   "execution_count": 10,
   "metadata": {},
   "outputs": [
    {
     "data": {
      "text/plain": [
       "'programacion tres'"
      ]
     },
     "execution_count": 10,
     "metadata": {},
     "output_type": "execute_result"
    }
   ],
   "source": [
    "palabra2 = \"PROGRAMACION TRES\"\n",
    "palabra2.lower()"
   ]
  },
  {
   "cell_type": "code",
   "execution_count": 11,
   "metadata": {},
   "outputs": [
    {
     "data": {
      "text/plain": [
       "'MANDARINA'"
      ]
     },
     "execution_count": 11,
     "metadata": {},
     "output_type": "execute_result"
    }
   ],
   "source": [
    "palabra.upper()"
   ]
  },
  {
   "cell_type": "code",
   "execution_count": 12,
   "metadata": {},
   "outputs": [
    {
     "data": {
      "text/plain": [
       "'abc'"
      ]
     },
     "execution_count": 12,
     "metadata": {},
     "output_type": "execute_result"
    }
   ],
   "source": [
    "palabra = \"     abc    \"\n",
    "palabra.strip()"
   ]
  },
  {
   "cell_type": "markdown",
   "metadata": {},
   "source": [
    "# Manipulando Cadenas\n"
   ]
  },
  {
   "cell_type": "code",
   "execution_count": 13,
   "metadata": {},
   "outputs": [
    {
     "data": {
      "text/plain": [
       "str"
      ]
     },
     "execution_count": 13,
     "metadata": {},
     "output_type": "execute_result"
    }
   ],
   "source": [
    "palabra =\"mandarina\"\n",
    "type(palabra)"
   ]
  },
  {
   "cell_type": "code",
   "execution_count": 14,
   "metadata": {},
   "outputs": [
    {
     "data": {
      "text/plain": [
       "3"
      ]
     },
     "execution_count": 14,
     "metadata": {},
     "output_type": "execute_result"
    }
   ],
   "source": [
    "palabra.find(\"d\")"
   ]
  },
  {
   "cell_type": "code",
   "execution_count": 15,
   "metadata": {},
   "outputs": [
    {
     "data": {
      "text/plain": [
       "-1"
      ]
     },
     "execution_count": 15,
     "metadata": {},
     "output_type": "execute_result"
    }
   ],
   "source": [
    "palabra.find(\"z\")"
   ]
  },
  {
   "cell_type": "markdown",
   "metadata": {},
   "source": [
    "## Mejorando el Juego"
   ]
  },
  {
   "cell_type": "code",
   "execution_count": 16,
   "metadata": {},
   "outputs": [
    {
     "name": "stdout",
     "output_type": "stream",
     "text": [
      "°°°°°°°°°°°°°°°°°°°°°°°°°°°°°°°°°°\n",
      "Bienvenido al juego del ahorcado\n",
      "°°°°°°°°°°°°°°°°°°°°°°°°°°°°°°°°°°\n",
      "Ingrese una letra .....z\n",
      "jugando.......\n",
      "Ingrese una letra .....a\n",
      "Se encontro la letra a en la posicion 1 \n",
      "Se encontro la letra a en la posicion 4 \n",
      "Se encontro la letra a en la posicion 8 \n",
      "jugando.......\n",
      "Ingrese una letra .....n}\n",
      "jugando.......\n",
      "Ingrese una letra .....6\n",
      "jugando.......\n",
      "Ingrese una letra .....69\n",
      "jugando.......\n",
      "Ingrese una letra .....Omar\n",
      "jugando.......\n",
      "Ingrese una letra .....d\n",
      "Se encontro la letra d en la posicion 3 \n",
      "jugando.......\n",
      "Ingrese una letra .....n\n",
      "Se encontro la letra n en la posicion 2 \n",
      "Se encontro la letra n en la posicion 7 \n",
      "jugando.......\n",
      "Ingrese una letra .....r\n",
      "Se encontro la letra r en la posicion 5 \n",
      "jugando.......\n",
      "Ingrese una letra .....i\n",
      "Se encontro la letra i en la posicion 6 \n",
      "jugando.......\n"
     ]
    },
    {
     "ename": "KeyboardInterrupt",
     "evalue": "Interrupted by user",
     "output_type": "error",
     "traceback": [
      "\u001b[1;31m---------------------------------------------------------------------------\u001b[0m",
      "\u001b[1;31mKeyboardInterrupt\u001b[0m                         Traceback (most recent call last)",
      "Cell \u001b[1;32mIn[16], line 27\u001b[0m\n\u001b[0;32m     24\u001b[0m     \u001b[38;5;28mprint\u001b[39m(\u001b[38;5;124m\"\u001b[39m\u001b[38;5;124mFin del juego\u001b[39m\u001b[38;5;124m\"\u001b[39m)\n\u001b[0;32m     26\u001b[0m \u001b[38;5;28;01mif\u001b[39;00m(\u001b[38;5;18m__name__\u001b[39m \u001b[38;5;241m==\u001b[39m \u001b[38;5;124m\"\u001b[39m\u001b[38;5;124m__main__\u001b[39m\u001b[38;5;124m\"\u001b[39m):\n\u001b[1;32m---> 27\u001b[0m     jugar()\n",
      "Cell \u001b[1;32mIn[16], line 13\u001b[0m, in \u001b[0;36mjugar\u001b[1;34m()\u001b[0m\n\u001b[0;32m      9\u001b[0m acerto \u001b[38;5;241m=\u001b[39m \u001b[38;5;28;01mFalse\u001b[39;00m\n\u001b[0;32m     11\u001b[0m \u001b[38;5;28;01mwhile\u001b[39;00m(\u001b[38;5;129;01mnot\u001b[39;00m ahorcado \u001b[38;5;129;01mand\u001b[39;00m \u001b[38;5;129;01mnot\u001b[39;00m acerto):\n\u001b[1;32m---> 13\u001b[0m     entrada \u001b[38;5;241m=\u001b[39m \u001b[38;5;28minput\u001b[39m(\u001b[38;5;124m'\u001b[39m\u001b[38;5;124mIngrese una letra .....\u001b[39m\u001b[38;5;124m'\u001b[39m)\n\u001b[0;32m     14\u001b[0m     indice \u001b[38;5;241m=\u001b[39m \u001b[38;5;241m0\u001b[39m\n\u001b[0;32m     15\u001b[0m     \u001b[38;5;28;01mfor\u001b[39;00m letra \u001b[38;5;129;01min\u001b[39;00m palabra_secreta:\n",
      "File \u001b[1;32m~\\Anaconda\\Lib\\site-packages\\ipykernel\\kernelbase.py:1175\u001b[0m, in \u001b[0;36mKernel.raw_input\u001b[1;34m(self, prompt)\u001b[0m\n\u001b[0;32m   1171\u001b[0m \u001b[38;5;28;01mif\u001b[39;00m \u001b[38;5;129;01mnot\u001b[39;00m \u001b[38;5;28mself\u001b[39m\u001b[38;5;241m.\u001b[39m_allow_stdin:\n\u001b[0;32m   1172\u001b[0m     \u001b[38;5;28;01mraise\u001b[39;00m StdinNotImplementedError(\n\u001b[0;32m   1173\u001b[0m         \u001b[38;5;124m\"\u001b[39m\u001b[38;5;124mraw_input was called, but this frontend does not support input requests.\u001b[39m\u001b[38;5;124m\"\u001b[39m\n\u001b[0;32m   1174\u001b[0m     )\n\u001b[1;32m-> 1175\u001b[0m \u001b[38;5;28;01mreturn\u001b[39;00m \u001b[38;5;28mself\u001b[39m\u001b[38;5;241m.\u001b[39m_input_request(\n\u001b[0;32m   1176\u001b[0m     \u001b[38;5;28mstr\u001b[39m(prompt),\n\u001b[0;32m   1177\u001b[0m     \u001b[38;5;28mself\u001b[39m\u001b[38;5;241m.\u001b[39m_parent_ident[\u001b[38;5;124m\"\u001b[39m\u001b[38;5;124mshell\u001b[39m\u001b[38;5;124m\"\u001b[39m],\n\u001b[0;32m   1178\u001b[0m     \u001b[38;5;28mself\u001b[39m\u001b[38;5;241m.\u001b[39mget_parent(\u001b[38;5;124m\"\u001b[39m\u001b[38;5;124mshell\u001b[39m\u001b[38;5;124m\"\u001b[39m),\n\u001b[0;32m   1179\u001b[0m     password\u001b[38;5;241m=\u001b[39m\u001b[38;5;28;01mFalse\u001b[39;00m,\n\u001b[0;32m   1180\u001b[0m )\n",
      "File \u001b[1;32m~\\Anaconda\\Lib\\site-packages\\ipykernel\\kernelbase.py:1217\u001b[0m, in \u001b[0;36mKernel._input_request\u001b[1;34m(self, prompt, ident, parent, password)\u001b[0m\n\u001b[0;32m   1214\u001b[0m             \u001b[38;5;28;01mbreak\u001b[39;00m\n\u001b[0;32m   1215\u001b[0m \u001b[38;5;28;01mexcept\u001b[39;00m \u001b[38;5;167;01mKeyboardInterrupt\u001b[39;00m:\n\u001b[0;32m   1216\u001b[0m     \u001b[38;5;66;03m# re-raise KeyboardInterrupt, to truncate traceback\u001b[39;00m\n\u001b[1;32m-> 1217\u001b[0m     \u001b[38;5;28;01mraise\u001b[39;00m \u001b[38;5;167;01mKeyboardInterrupt\u001b[39;00m(\u001b[38;5;124m\"\u001b[39m\u001b[38;5;124mInterrupted by user\u001b[39m\u001b[38;5;124m\"\u001b[39m) \u001b[38;5;28;01mfrom\u001b[39;00m \u001b[38;5;28;01mNone\u001b[39;00m\n\u001b[0;32m   1218\u001b[0m \u001b[38;5;28;01mexcept\u001b[39;00m \u001b[38;5;167;01mException\u001b[39;00m:\n\u001b[0;32m   1219\u001b[0m     \u001b[38;5;28mself\u001b[39m\u001b[38;5;241m.\u001b[39mlog\u001b[38;5;241m.\u001b[39mwarning(\u001b[38;5;124m\"\u001b[39m\u001b[38;5;124mInvalid Message:\u001b[39m\u001b[38;5;124m\"\u001b[39m, exc_info\u001b[38;5;241m=\u001b[39m\u001b[38;5;28;01mTrue\u001b[39;00m)\n",
      "\u001b[1;31mKeyboardInterrupt\u001b[0m: Interrupted by user"
     ]
    }
   ],
   "source": [
    "def jugar():\n",
    "    print(\"°°°°°°°°°°°°°°°°°°°°°°°°°°°°°°°°°°\")\n",
    "    print(\"Bienvenido al juego del ahorcado\")\n",
    "    print(\"°°°°°°°°°°°°°°°°°°°°°°°°°°°°°°°°°°\")  \n",
    "    \n",
    "    palabra_secreta = 'mandarina'\n",
    "    \n",
    "    ahorcado = False\n",
    "    acerto = False\n",
    "    \n",
    "    while(not ahorcado and not acerto):\n",
    "        \n",
    "        entrada = input('Ingrese una letra .....')\n",
    "        entrada = entrada.strip()\n",
    "        entrada = entrada.lower()  #Convierte a letras minusculas \n",
    "        indice = 0\n",
    "        for letra in palabra_secreta:\n",
    "            \n",
    "            if(entrada==letra):\n",
    "                print('Se encontro la letra {} en la posicion {} '.format(letra, indice))\n",
    "               \n",
    "            indice = indice + 1\n",
    "        print('jugando.......')\n",
    "        \n",
    "        \n",
    "    print(\"Fin del juego\")\n",
    "    \n",
    "if(__name__ == \"__main__\"):\n",
    "    jugar()\n",
    "    "
   ]
  },
  {
   "cell_type": "markdown",
   "metadata": {},
   "source": [
    "## Lista"
   ]
  },
  {
   "cell_type": "code",
   "execution_count": 17,
   "metadata": {},
   "outputs": [],
   "source": [
    "valores = [0,1,2,3,5,7]"
   ]
  },
  {
   "cell_type": "code",
   "execution_count": 18,
   "metadata": {},
   "outputs": [
    {
     "data": {
      "text/plain": [
       "0"
      ]
     },
     "execution_count": 18,
     "metadata": {},
     "output_type": "execute_result"
    }
   ],
   "source": [
    "min(valores)"
   ]
  },
  {
   "cell_type": "code",
   "execution_count": 19,
   "metadata": {},
   "outputs": [
    {
     "data": {
      "text/plain": [
       "7"
      ]
     },
     "execution_count": 19,
     "metadata": {},
     "output_type": "execute_result"
    }
   ],
   "source": [
    "max(valores)"
   ]
  },
  {
   "cell_type": "code",
   "execution_count": 20,
   "metadata": {},
   "outputs": [
    {
     "data": {
      "text/plain": [
       "6"
      ]
     },
     "execution_count": 20,
     "metadata": {},
     "output_type": "execute_result"
    }
   ],
   "source": [
    "len(valores)"
   ]
  },
  {
   "cell_type": "code",
   "execution_count": 21,
   "metadata": {},
   "outputs": [
    {
     "data": {
      "text/plain": [
       "[0, 1, 2, 3, 5, 7, 9]"
      ]
     },
     "execution_count": 21,
     "metadata": {},
     "output_type": "execute_result"
    }
   ],
   "source": [
    "valores.append(9)\n",
    "valores"
   ]
  },
  {
   "cell_type": "code",
   "execution_count": 22,
   "metadata": {},
   "outputs": [
    {
     "data": {
      "text/plain": [
       "9"
      ]
     },
     "execution_count": 22,
     "metadata": {},
     "output_type": "execute_result"
    }
   ],
   "source": [
    "valores.pop()"
   ]
  },
  {
   "cell_type": "code",
   "execution_count": 23,
   "metadata": {},
   "outputs": [
    {
     "data": {
      "text/plain": [
       "[0, 1, 2, 3, 5, 7]"
      ]
     },
     "execution_count": 23,
     "metadata": {},
     "output_type": "execute_result"
    }
   ],
   "source": [
    "valores"
   ]
  },
  {
   "cell_type": "code",
   "execution_count": null,
   "metadata": {},
   "outputs": [],
   "source": []
  }
 ],
 "metadata": {
  "colab": {
   "provenance": []
  },
  "kernelspec": {
   "display_name": "Python 3 (ipykernel)",
   "language": "python",
   "name": "python3"
  },
  "language_info": {
   "codemirror_mode": {
    "name": "ipython",
    "version": 3
   },
   "file_extension": ".py",
   "mimetype": "text/x-python",
   "name": "python",
   "nbconvert_exporter": "python",
   "pygments_lexer": "ipython3",
   "version": "3.11.4"
  }
 },
 "nbformat": 4,
 "nbformat_minor": 1
}
