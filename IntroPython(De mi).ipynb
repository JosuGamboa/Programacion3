{
 "cells": [
  {
   "cell_type": "markdown",
   "metadata": {
    "id": "xSmsDbn61tjz"
   },
   "source": [
    "# Logica de programacion con Python"
   ]
  },
  {
   "cell_type": "markdown",
   "metadata": {
    "id": "04d4BDcC1psU"
   },
   "source": []
  },
  {
   "cell_type": "code",
   "execution_count": null,
   "metadata": {
    "colab": {
     "base_uri": "https://localhost:8080/",
     "height": 35
    },
    "id": "psPNCYWq19Yr",
    "outputId": "9e713c0c-65dd-47f2-a463-ee194ec81844"
   },
   "outputs": [],
   "source": [
    "\"Josué\""
   ]
  },
  {
   "cell_type": "code",
   "execution_count": null,
   "metadata": {
    "id": "5JIVBkh12WPa"
   },
   "outputs": [],
   "source": [
    "nombre = \"Josué\""
   ]
  },
  {
   "cell_type": "code",
   "execution_count": null,
   "metadata": {
    "colab": {
     "base_uri": "https://localhost:8080/",
     "height": 35
    },
    "id": "GjdVPsE72bws",
    "outputId": "30e105b0-00f8-4b60-bbb9-9acb40706009"
   },
   "outputs": [],
   "source": [
    "nombre"
   ]
  },
  {
   "cell_type": "code",
   "execution_count": null,
   "metadata": {
    "colab": {
     "base_uri": "https://localhost:8080/"
    },
    "id": "jbyagA9V2ph3",
    "outputId": "acb60ff2-b737-4ced-c9e9-5706630c34e1"
   },
   "outputs": [],
   "source": [
    "edad = 21\n",
    "edad"
   ]
  },
  {
   "cell_type": "code",
   "execution_count": null,
   "metadata": {
    "colab": {
     "base_uri": "https://localhost:8080/"
    },
    "id": "egWeNTQH27NV",
    "outputId": "e90ed387-ba14-40ea-b1a3-dd9717dfb4da"
   },
   "outputs": [],
   "source": [
    "print (f'Mi nombre es {nombre} y mi edad es {edad}.')"
   ]
  },
  {
   "cell_type": "code",
   "execution_count": null,
   "metadata": {
    "id": "zBozkVTa36Gg"
   },
   "outputs": [],
   "source": [
    "edad = 22"
   ]
  },
  {
   "cell_type": "markdown",
   "metadata": {
    "id": "Q8cWWG0K5CyO"
   },
   "source": [
    "# Mi primera Funcion"
   ]
  },
  {
   "cell_type": "code",
   "execution_count": null,
   "metadata": {
    "id": "o5dDWcXN5Fi4"
   },
   "outputs": [],
   "source": [
    "def saludos():\n",
    "  nombre = input('Cual es su nombre? ')\n",
    "  print(f'Hola {nombre}')"
   ]
  },
  {
   "cell_type": "code",
   "execution_count": null,
   "metadata": {
    "colab": {
     "base_uri": "https://localhost:8080/"
    },
    "id": "KV0ISCKG5ZOI",
    "outputId": "7e9a6100-0f88-493f-994a-8f7c50cc57cf"
   },
   "outputs": [],
   "source": [
    "saludos()"
   ]
  },
  {
   "cell_type": "markdown",
   "metadata": {
    "id": "1uQRR0ef5vYK"
   },
   "source": [
    "# PARAMETROS\n"
   ]
  },
  {
   "cell_type": "code",
   "execution_count": null,
   "metadata": {
    "id": "BVQt7LvF5zY9"
   },
   "outputs": [],
   "source": [
    "nombre = 'Juan'"
   ]
  },
  {
   "cell_type": "code",
   "execution_count": null,
   "metadata": {
    "id": "L8ZcxqBA58q5"
   },
   "outputs": [],
   "source": [
    "def saludos_con_parametros(nombre_de_la_persona):\n",
    "  print(f'Hola {nombre_de_la_persona}')"
   ]
  },
  {
   "cell_type": "code",
   "execution_count": null,
   "metadata": {
    "colab": {
     "base_uri": "https://localhost:8080/"
    },
    "id": "b4XQRYYV6TMt",
    "outputId": "fcb894a9-b3e2-477b-f7fd-b30b46ec590c"
   },
   "outputs": [],
   "source": [
    "saludos_con_parametros(nombre)"
   ]
  },
  {
   "cell_type": "markdown",
   "metadata": {
    "id": "qmVMIU3k6pIe"
   },
   "source": [
    "# CONDICIONAL"
   ]
  },
  {
   "cell_type": "code",
   "execution_count": null,
   "metadata": {
    "colab": {
     "base_uri": "https://localhost:8080/"
    },
    "id": "W7RN9JKo6rUL",
    "outputId": "2ed8ece5-4a2c-4bde-e258-d2aba2bcd765"
   },
   "outputs": [],
   "source": [
    "edad = 21\n",
    "def verifica_si_puede_conducir(edad):\n",
    "  if edad >= 18:\n",
    "    print('Tiene autorizacion para conducir')\n",
    "  else:\n",
    "      print('No tiene la autorizacion para conducir')\n",
    "\n",
    "verifica_si_puede_conducir(edad)"
   ]
  },
  {
   "cell_type": "markdown",
   "metadata": {
    "id": "mEn45VVG8lyT"
   },
   "source": [
    "# CONVIRTIENDO TIPO ENTERO"
   ]
  },
  {
   "cell_type": "code",
   "execution_count": null,
   "metadata": {
    "colab": {
     "base_uri": "https://localhost:8080/"
    },
    "id": "ovSLPxfO8p1I",
    "outputId": "407c131a-e04b-453d-9b51-7817e346856b"
   },
   "outputs": [],
   "source": [
    "def verifica_si_puede_conducir_sin_parametros():\n",
    "  edad = input(' ¿Cual es su edad? ')\n",
    "  edad = int(edad)\n",
    "  if edad >= 18:\n",
    "    print( 'Tiene autorizacion para conducir')\n",
    "  else:\n",
    "    print( 'No tiene autorizacion para conducir')\n",
    "\n",
    "verifica_si_puede_conducir_sin_parametros()"
   ]
  },
  {
   "cell_type": "markdown",
   "metadata": {
    "id": "lLUiQuRU-wKh"
   },
   "source": [
    "# LISTA"
   ]
  },
  {
   "cell_type": "code",
   "execution_count": null,
   "metadata": {
    "colab": {
     "base_uri": "https://localhost:8080/"
    },
    "id": "E9wLc2R_-xuW",
    "outputId": "733d9d8f-6800-430e-fff5-157814d36217"
   },
   "outputs": [],
   "source": [
    "edad = 22\n",
    "edad"
   ]
  },
  {
   "cell_type": "code",
   "execution_count": null,
   "metadata": {
    "colab": {
     "base_uri": "https://localhost:8080/"
    },
    "id": "drWs0bZ7_E9O",
    "outputId": "e96bd8e8-4263-4fca-8e3a-16c7facc2ff4"
   },
   "outputs": [],
   "source": [
    "type(edad)"
   ]
  },
  {
   "cell_type": "code",
   "execution_count": null,
   "metadata": {
    "colab": {
     "base_uri": "https://localhost:8080/"
    },
    "id": "dgdTDJW7_vxe",
    "outputId": "b3049509-2d93-4b5c-cd7c-766817c53f55"
   },
   "outputs": [],
   "source": [
    "nombre = 'Sara'\n",
    "type(nombre)"
   ]
  },
  {
   "cell_type": "code",
   "execution_count": null,
   "metadata": {
    "colab": {
     "base_uri": "https://localhost:8080/"
    },
    "id": "3LEn-g_k_7ad",
    "outputId": "0544515b-76da-4811-cc5d-6630900db609"
   },
   "outputs": [],
   "source": [
    "edades =  [18, 22, 15, 50]\n",
    "type(edades)"
   ]
  },
  {
   "cell_type": "code",
   "execution_count": null,
   "metadata": {
    "colab": {
     "base_uri": "https://localhost:8080/"
    },
    "id": "tJo6ZokvAVZc",
    "outputId": "ce7be41d-ec9f-47ce-b24c-e1cb59b8c852"
   },
   "outputs": [],
   "source": [
    "edades[2]"
   ]
  },
  {
   "cell_type": "code",
   "execution_count": null,
   "metadata": {
    "id": "7wa-iPhzA3at"
   },
   "outputs": [],
   "source": [
    "edades =  [18, 22, 15, 50]\n",
    "#          0   1   2   3\n",
    "#          0  -3  -2  -1"
   ]
  },
  {
   "cell_type": "code",
   "execution_count": null,
   "metadata": {
    "colab": {
     "base_uri": "https://localhost:8080/"
    },
    "id": "FD38sHowBXJb",
    "outputId": "03281e82-c6f3-4bfe-c549-ac551d7b43d7"
   },
   "outputs": [],
   "source": [
    "edades[-2]"
   ]
  },
  {
   "cell_type": "code",
   "execution_count": null,
   "metadata": {
    "colab": {
     "base_uri": "https://localhost:8080/"
    },
    "id": "TEX-2wIRBn2d",
    "outputId": "f4c58ab9-cf22-4974-eb67-34c508a905e8"
   },
   "outputs": [],
   "source": [
    "edades[0:2]"
   ]
  },
  {
   "cell_type": "code",
   "execution_count": null,
   "metadata": {
    "colab": {
     "base_uri": "https://localhost:8080/"
    },
    "id": "w1l6YuYWB-cp",
    "outputId": "d8a4d093-e70f-489a-ec73-0af7c98cea67"
   },
   "outputs": [],
   "source": [
    "edades[1:]"
   ]
  },
  {
   "cell_type": "markdown",
   "metadata": {
    "id": "Fdm2j2acCT2W"
   },
   "source": [
    "# LAZOS Y LOOPS"
   ]
  },
  {
   "cell_type": "code",
   "execution_count": null,
   "metadata": {
    "colab": {
     "base_uri": "https://localhost:8080/"
    },
    "id": "DS0z7DakCWgZ",
    "outputId": "18ce5e61-514e-4323-e642-08259f1306bf"
   },
   "outputs": [],
   "source": [
    "edades"
   ]
  },
  {
   "cell_type": "code",
   "execution_count": null,
   "metadata": {
    "colab": {
     "base_uri": "https://localhost:8080/"
    },
    "id": "sC2vFm5YC1T_",
    "outputId": "5e11c198-7da8-464b-f7c2-476d541d5836"
   },
   "outputs": [],
   "source": [
    "# for fuera  de la funcion\n",
    "def verifica_si_puede_conducir(edad):\n",
    "  if edad >=18:\n",
    "    print(f'{edad} años de edad,  TIENE autorizacion para conducir' )\n",
    "  else:\n",
    "    print(f'{edad} años de edad,  NO TIENE autorizacion para conducir' )\n",
    "\n",
    "for edad in edades:\n",
    "  verifica_si_puede_conducir(edad)"
   ]
  },
  {
   "cell_type": "code",
   "execution_count": null,
   "metadata": {
    "colab": {
     "base_uri": "https://localhost:8080/"
    },
    "id": "lEHCA8maEtxE",
    "outputId": "d3f6f675-5868-48f2-e987-83b7c2b314ac"
   },
   "outputs": [],
   "source": [
    "def verifica_si_puede_conducir(edades):\n",
    "  for edad in edades:\n",
    "    if edad >= 18:\n",
    "       print(f'{edad} años de edad,  TIENE autorizacion para conducir' )\n",
    "    else:\n",
    "       print(f'{edad} años de edad,  NO TIENE autorizacion para conducir' )\n",
    "\n",
    "verifica_si_puede_conducir(edades)\n"
   ]
  },
  {
   "cell_type": "markdown",
   "metadata": {
    "id": "MkvJPhAmFgS9"
   },
   "source": [
    "# BOOLEANO"
   ]
  },
  {
   "cell_type": "code",
   "execution_count": null,
   "metadata": {
    "colab": {
     "base_uri": "https://localhost:8080/"
    },
    "id": "xnDi4mhSFjHM",
    "outputId": "a5bc03e8-167c-42af-bccd-aab38f953d81"
   },
   "outputs": [],
   "source": [
    "edad = 18\n",
    "edad >= 18"
   ]
  },
  {
   "cell_type": "code",
   "execution_count": null,
   "metadata": {
    "colab": {
     "base_uri": "https://localhost:8080/"
    },
    "id": "Y5mNlME1F5jk",
    "outputId": "f82afa4e-fcb5-40ab-ce1f-9d58ec8f850d"
   },
   "outputs": [],
   "source": [
    "edad = 15\n",
    "edad >= 18"
   ]
  },
  {
   "cell_type": "code",
   "execution_count": null,
   "metadata": {
    "id": "8m8Jlac8GAyK"
   },
   "outputs": [],
   "source": [
    "autorizaciones = []\n",
    "edades = [20, 14, 40]\n",
    "\n",
    "def verifica_si_puede_conducir(edades, autorizaciones):\n",
    "  for edad in edades:\n",
    "    if edad >= 18:\n",
    "      autorizaciones.append(True)\n",
    "    else:\n",
    "      autorizaciones.append(False)\n",
    "\n",
    "verifica_si_puede_conducir(edades, autorizaciones)"
   ]
  },
  {
   "cell_type": "code",
   "execution_count": null,
   "metadata": {
    "colab": {
     "base_uri": "https://localhost:8080/"
    },
    "id": "uqbs0w3dHBYx",
    "outputId": "3c286d9c-434f-41bf-9b36-633dae7dbf06"
   },
   "outputs": [],
   "source": [
    "autorizaciones"
   ]
  },
  {
   "cell_type": "code",
   "execution_count": null,
   "metadata": {
    "colab": {
     "base_uri": "https://localhost:8080/"
    },
    "id": "vu_W9t6zHVFX",
    "outputId": "659298d0-6510-4b62-f73d-4a4ea2b58ed8"
   },
   "outputs": [],
   "source": [
    "for autorizacion in autorizaciones:\n",
    "  if autorizacion == True:\n",
    "    print('TIENE autorizacion para conducir')\n",
    "  else:\n",
    "    print('NO TIENE autorizacion para conducir')"
   ]
  },
  {
   "cell_type": "markdown",
   "metadata": {
    "id": "Rq59Z-CUH18N"
   },
   "source": [
    "# TIPOS EN UNA LISTA"
   ]
  },
  {
   "cell_type": "code",
   "execution_count": null,
   "metadata": {
    "colab": {
     "base_uri": "https://localhost:8080/"
    },
    "id": "XpVhVXgnH4nI",
    "outputId": "12bdffe2-a26a-4f2d-e538-8925de36ba1d"
   },
   "outputs": [],
   "source": [
    "lista = ['Mauricio', 28, True, '18']\n",
    "\n",
    "for elemento in lista:\n",
    "  print(f'El elemento {elemento} es del tipo: ',  type(elemento))"
   ]
  },
  {
   "cell_type": "markdown",
   "metadata": {
    "id": "m_CnpjkEIsr4"
   },
   "source": [
    "# IMPORT"
   ]
  },
  {
   "cell_type": "code",
   "execution_count": null,
   "metadata": {
    "id": "PrkMt1Y7Iukg"
   },
   "outputs": [],
   "source": [
    "from random import randrange, seed"
   ]
  },
  {
   "cell_type": "code",
   "execution_count": null,
   "metadata": {
    "id": "Je1PsxzgJEDo"
   },
   "outputs": [],
   "source": [
    "seed(11)"
   ]
  },
  {
   "cell_type": "code",
   "execution_count": null,
   "metadata": {
    "colab": {
     "base_uri": "https://localhost:8080/"
    },
    "id": "8M1hCM3NJIDN",
    "outputId": "484133f6-8f22-49c7-a50b-32812a197e11"
   },
   "outputs": [],
   "source": [
    "randrange(0,11)"
   ]
  },
  {
   "cell_type": "code",
   "execution_count": null,
   "metadata": {
    "id": "eLlLhA85J15m"
   },
   "outputs": [],
   "source": [
    "notas_matematicas = []\n",
    "\n",
    "for notas in range(8):\n",
    " notas_matematicas.append(randrange(0,11))\n"
   ]
  },
  {
   "cell_type": "code",
   "execution_count": null,
   "metadata": {
    "colab": {
     "base_uri": "https://localhost:8080/"
    },
    "id": "PqJQWOXiKZG9",
    "outputId": "ff45c729-3a41-48d2-d3e0-2af0e23fc0f5"
   },
   "outputs": [],
   "source": [
    "notas_matematicas"
   ]
  },
  {
   "cell_type": "code",
   "execution_count": null,
   "metadata": {
    "colab": {
     "base_uri": "https://localhost:8080/"
    },
    "id": "rto360zGKeLT",
    "outputId": "12350a2b-120c-4408-cda0-3266f2b35edb"
   },
   "outputs": [],
   "source": [
    "len(notas_matematicas)"
   ]
  },
  {
   "cell_type": "markdown",
   "metadata": {
    "id": "YKppezDbKixL"
   },
   "source": [
    "# MATPLOTLIP"
   ]
  },
  {
   "cell_type": "code",
   "execution_count": null,
   "metadata": {
    "id": "pd5e1jm5Kl38"
   },
   "outputs": [],
   "source": [
    "import matplotlib.pyplot as plt\n"
   ]
  },
  {
   "cell_type": "code",
   "execution_count": null,
   "metadata": {
    "colab": {
     "base_uri": "https://localhost:8080/",
     "height": 472
    },
    "id": "-wRNTumpLLHM",
    "outputId": "c49d6553-910c-4a98-95d5-95fabd2c14d8"
   },
   "outputs": [],
   "source": [
    "x = list(range(1,9))\n",
    "y = notas_matematicas\n",
    "#plt.plot(x, y, marker='o')\n",
    "plt.bar(x,y)\n",
    "plt.title('Notas de matematicas')\n",
    "plt.xlabel('Examenes')\n",
    "plt.ylabel('Notas')\n",
    "plt.show()"
   ]
  },
  {
   "cell_type": "code",
   "execution_count": null,
   "metadata": {
    "colab": {
     "base_uri": "https://localhost:8080/"
    },
    "id": "gJma_g831KPq",
    "outputId": "c5a3d3c2-d870-46d2-cf63-e5409d5b66b9"
   },
   "outputs": [],
   "source": [
    "print('Brasil gano 5 titulos mundiales de futbol')"
   ]
  },
  {
   "cell_type": "code",
   "execution_count": null,
   "metadata": {
    "colab": {
     "base_uri": "https://localhost:8080/"
    },
    "id": "D5YKaqJF1khp",
    "outputId": "87436978-61c4-4738-da98-d14f368f412b"
   },
   "outputs": [],
   "source": [
    "print('Brasil gano 5 titulos mundiales de futbol', sep='-')"
   ]
  },
  {
   "cell_type": "code",
   "execution_count": null,
   "metadata": {
    "colab": {
     "base_uri": "https://localhost:8080/"
    },
    "id": "fprfNAM61z4m",
    "outputId": "e69ada66-beeb-40d1-ae17-caf906ce13e1"
   },
   "outputs": [],
   "source": [
    "print('Brasil', 'gano', 5, 'titulos mundiales', 'de futbol', sep='-')"
   ]
  },
  {
   "cell_type": "code",
   "execution_count": null,
   "metadata": {
    "id": "Fcu-S-Jw27uD"
   },
   "outputs": [],
   "source": [
    "# pais = \"Argentina\"\n",
    "# titulo= 3\n",
    "pais = \"Italia\"\n",
    "titulo = 4"
   ]
  },
  {
   "cell_type": "code",
   "execution_count": null,
   "metadata": {
    "colab": {
     "base_uri": "https://localhost:8080/"
    },
    "id": "pQmeGOqo3zJV",
    "outputId": "cfe31f0b-cb9c-475b-e7fd-707724f30402"
   },
   "outputs": [],
   "source": [
    "print(pais, 'gano',titulo, 'titulos mundiales', 'de futbol')"
   ]
  },
  {
   "cell_type": "code",
   "execution_count": null,
   "metadata": {
    "id": "jJk3__4p4sH9"
   },
   "outputs": [],
   "source": [
    "print('=================================')\n",
    "print('Bienvenido al Juego de Adivinanza')\n",
    "print('=================================')\n",
    "\n",
    "\n",
    "\n",
    "numero_secreto = 77\n",
    "entrada = int (input('Digite un numero '))\n",
    "print ('Digitaste. . . . ', entrada)\n",
    "if(entrada == numero_secreto):\n",
    "  print('Felicitaciones!!!!!!! ...... adivinaste el numero')\n",
    "else:\n",
    "  print('Lo Siento.... no lograste adivninar el numero')\n",
    "\n",
    "print('Fin del Juego')\n"
   ]
  },
  {
   "cell_type": "code",
   "execution_count": null,
   "metadata": {
    "colab": {
     "base_uri": "https://localhost:8080/"
    },
    "id": "xd5ywq5v7ID2",
    "outputId": "6f5a1e04-4d9e-4a41-bbb3-8e4770a64430"
   },
   "outputs": [],
   "source": [
    "# comparando si las variables son del mismo tipo\n",
    "type(numero_secreto)"
   ]
  },
  {
   "cell_type": "markdown",
   "metadata": {
    "id": "52TFV6847ii4"
   },
   "source": [
    "# Guiar al usuario si el numero ingresado fue mayor o menor al numero que se tiene que adivinar"
   ]
  },
  {
   "cell_type": "code",
   "execution_count": null,
   "metadata": {
    "colab": {
     "base_uri": "https://localhost:8080/"
    },
    "id": "ZhH72ABU7tMz",
    "outputId": "7c5ae531-21d4-4199-a454-e3c00d989d97"
   },
   "outputs": [],
   "source": [
    "print('=================================')\n",
    "print('Bienvenido al Juego de Adivinanza')\n",
    "print('=================================')\n",
    "numero_secreto = 77\n",
    "\n",
    "entrada = int (input(entrada))\n",
    "print ('Digitaste......', entrada)\n",
    "\n",
    "acertatste = entrada == numero_secreto #Iguales\n",
    "mayor = entrada > numero_secreto #entrada es Mayor\n",
    "menor = entrada < numero_secreto #entrada es Menor\n",
    "\n",
    "\n",
    "if(acertaste):\n",
    "  print('Felicitaciones!!!!.... Adivinaste el numero secreto')\n",
    "elif(mayor):\n",
    "  print('Lo Siento..... El numero que ingresaste es mayor al numero secreto')\n",
    "else:\n",
    "  print('Lo siento...... el numero que ingresaste es menor que el secreto')\n",
    "print('Fin del Juego')"
   ]
  },
  {
   "cell_type": "code",
   "execution_count": null,
   "metadata": {
    "colab": {
     "base_uri": "https://localhost:8080/"
    },
    "id": "tPXMQi_L-jeZ",
    "outputId": "20dbfbbf-1db0-4141-8445-7dc7795e125f"
   },
   "outputs": [],
   "source": [
    "numero_secreto=77\n",
    "total_intentos=6\n",
    "iteracion=1\n",
    "\n",
    "while(iteracion<=total_intentos):\n",
    "  print(\"Intento: \",iteracion,\" de\",total_intentos)\n",
    "  entrada=input(\"Digite un número\" )\n",
    "  entrada=int (entrada)\n",
    "  print(\"Digitaste ... \", entrada)\n",
    "\n",
    "  acertaste=entrada==numero_secreto #Iguales\n",
    "  mayor=entrada>numero_secreto #Entrada es mayor\n",
    "  menor=entrada<numero_secreto #Entrada es menor\n",
    "\n",
    "  if(acertaste):\n",
    "    print(\"Felicitaciones, adivinaste el número\")\n",
    "    break\n",
    "  elif(mayor):\n",
    "    print(\"Lo siento, el número que ingresaste es mayor al secreto\")\n",
    "  else:\n",
    "    print(\"Lo siento, el número que ingresaste es menor al secreto\")\n",
    "\n",
    "  iteracion = iteracion + 1\n",
    "print(\"Fin del juego\")\n"
   ]
  },
  {
   "cell_type": "markdown",
   "metadata": {
    "id": "fDlsce2XCPVv"
   },
   "source": [
    "# MEJORANDO AUN EL CODIGO..... FORMATEANDO LOS STRINGS"
   ]
  },
  {
   "cell_type": "code",
   "execution_count": null,
   "metadata": {
    "colab": {
     "base_uri": "https://localhost:8080/"
    },
    "id": "HTcMgNR7CZOv",
    "outputId": "9a6c3fcf-494f-4983-fffd-fd115ab50c57"
   },
   "outputs": [],
   "source": [
    "numero_secreto=77\n",
    "total_intentos=6\n",
    "iteracion=1\n",
    "\n",
    "\n",
    "while(iteracion<=total_intentos):\n",
    "  print(\"Intento: {} de {} \" .format(iteraccion,total_intentos))\n",
    "  entrada=input(\"Digite un número\" )\n",
    "  entrada=int (entrada)\n",
    "  print(\"Digitaste ... \", entrada)\n",
    "\n",
    "\n",
    "  acertaste=entrada==numero_secreto #Iguales\n",
    "  mayor=entrada>numero_secreto #Entrada es mayor\n",
    "  menor=entrada<numero_secreto #Entrada es menor\n",
    "\n",
    "  if(acertaste):\n",
    "    print(\"Felicitaciones, adivinaste el número\")\n",
    "    break\n",
    "  elif(mayor):\n",
    "    print(\"Lo siento, el número que ingresaste es mayor al secreto\")\n",
    "  else:\n",
    "    print(\"Lo siento, el número que ingresaste es menor al secreto\")\n",
    "\n",
    "  iteracion = iteracion + 1\n",
    "print(\"Fin del juego\")"
   ]
  },
  {
   "cell_type": "markdown",
   "metadata": {
    "id": "tbRxc9VRD4ql"
   },
   "source": [
    "# Utilizando otra sentencia para LOOPS for i range(n1, n2, n3) y controlar que el número ingresado sea positivo y si adivinó del total de intentos, para el juego"
   ]
  },
  {
   "cell_type": "code",
   "execution_count": null,
   "metadata": {
    "colab": {
     "base_uri": "https://localhost:8080/"
    },
    "id": "DXqJJ7rQFHio",
    "outputId": "ec31b265-a544-43c4-bf04-708b4a4aab0a"
   },
   "outputs": [],
   "source": [
    "for i in range(20, 4, -2):\n",
    "  print(i)"
   ]
  },
  {
   "cell_type": "code",
   "execution_count": null,
   "metadata": {
    "colab": {
     "base_uri": "https://localhost:8080/"
    },
    "id": "4-QR12E8GTUW",
    "outputId": "36a96db4-e2f1-4518-87a3-90957f195647"
   },
   "outputs": [],
   "source": [
    "numero_secreto=77\n",
    "total_intentos=6\n",
    "iteracion=1\n",
    "\n",
    "for iteraccion in range (1, total_intentos +1):\n",
    "  print(\"Intento: {} de {} \" .format(iteraccion,total_intentos))\n",
    "  entrada=input(\"Digite un número \")\n",
    "  entrada=int ( entrada)\n",
    "  print(\"Digitaste ... \", entrada)\n",
    "  if(entrada < 1 or entrada > 100):\n",
    "    print('Ingrese un numero entre 1 y 100')\n",
    "    continue\n",
    "\n",
    "  acertaste=entrada==numero_secreto #Iguales\n",
    "  mayor=entrada>numero_secreto #Entrada es mayor\n",
    "  menor=entrada<numero_secreto #Entrada es menor\n",
    "\n",
    "  if(acertaste):\n",
    "    print(\"Felicitaciones, adivinaste el número\")\n",
    "    break\n",
    "  elif(mayor):\n",
    "    print(\"Lo siento, el número que ingresaste es mayor al secreto\")\n",
    "  else:\n",
    "    print(\"Lo siento, el número que ingresaste es menor al secreto\")\n",
    "\n",
    "  iteracion = iteracion + 1\n",
    "print(\"Fin del juego\")"
   ]
  },
  {
   "cell_type": "markdown",
   "metadata": {
    "id": "omKKdD-9H3ty"
   },
   "source": [
    "# Generar un numero aleatorio... RANDOOOOM\n"
   ]
  },
  {
   "cell_type": "code",
   "execution_count": null,
   "metadata": {
    "colab": {
     "base_uri": "https://localhost:8080/"
    },
    "id": "gdzJy73zIABq",
    "outputId": "76aea846-c729-4711-c293-c6ac62a9fc78"
   },
   "outputs": [],
   "source": [
    "# Generar numero random\n",
    "import random\n",
    "random.random()"
   ]
  },
  {
   "cell_type": "code",
   "execution_count": null,
   "metadata": {
    "colab": {
     "base_uri": "https://localhost:8080/"
    },
    "id": "ApeHzpPkItDC",
    "outputId": "5665d692-b6fc-435d-b4b2-1352959acec7"
   },
   "outputs": [],
   "source": [
    "# Genera un numero entre 1 y 100\n",
    "numero_random = random.random()*100\n",
    "numero_random"
   ]
  },
  {
   "cell_type": "code",
   "execution_count": null,
   "metadata": {
    "colab": {
     "base_uri": "https://localhost:8080/"
    },
    "id": "3EUmN4W1JFkh",
    "outputId": "0252cf41-6009-4d26-9df9-9215b927fdca"
   },
   "outputs": [],
   "source": [
    "# Genera un numero random entre 0 y 100\n",
    "numero_random = round(random.random()*100)\n",
    "numero_random"
   ]
  },
  {
   "cell_type": "code",
   "execution_count": null,
   "metadata": {
    "colab": {
     "base_uri": "https://localhost:8080/"
    },
    "id": "nTX7vw8PJwUa",
    "outputId": "d0e46ece-a669-4027-ca59-f51db79729d8"
   },
   "outputs": [],
   "source": [
    "# Genera un numero random entre 1 y 100\n",
    "numero_random = random.randrange(1,101)\n",
    "numero_random"
   ]
  },
  {
   "cell_type": "markdown",
   "metadata": {
    "id": "SlYmHSEQKGyK"
   },
   "source": [
    "# Mejorando el codigo, generando el Numero Secreto manera aleatoria, tenemos...."
   ]
  },
  {
   "cell_type": "code",
   "execution_count": null,
   "metadata": {
    "id": "3LnVP1gsKZi-"
   },
   "outputs": [],
   "source": [
    "import random\n",
    "print('=================================')\n",
    "print('Bienvenido al Juego de Adivinanza')\n",
    "print('=================================')\n",
    "\n",
    "numero_secreto= random.randrange(1,101)\n",
    "total_intentos = 15\n",
    "\n",
    "for iteraccion in range (1, total_intentos +1):\n",
    "  print(\"Intento: {} de {} \" .format(iteraccion,total_intentos))\n",
    "  entrada=input(\"Digite un número \")\n",
    "  entrada=int ( entrada)\n",
    "  print(\"Digitaste ... \", entrada)\n",
    "  if(entrada < 1 or entrada > 100):\n",
    "    print('Ingrese un numero entre 1 y 100: ')\n",
    "    continue\n",
    "\n",
    "\n",
    "  acertaste=entrada==numero_secreto #Iguales\n",
    "  mayor=entrada>numero_secreto #Entrada es mayor\n",
    "  menor=entrada<numero_secreto #Entrada es menor\n",
    "\n",
    "  if(acertaste):\n",
    "    print(\"Felicitaciones, adivinaste el número\")\n",
    "    break\n",
    "  elif(mayor):\n",
    "    print(\"Lo siento, el número que ingresaste es mayor al secreto\")\n",
    "  else:\n",
    "    print(\"Lo siento, el número que ingresaste es menor al secreto\")\n",
    "\n",
    "  iteracion = iteracion + 1\n",
    "print(\"Fin del juego\")"
   ]
  },
  {
   "cell_type": "markdown",
   "metadata": {
    "id": "CCKfeEBoMtPP"
   },
   "source": [
    "# Definiendo el nivel de dificultad"
   ]
  },
  {
   "cell_type": "code",
   "execution_count": null,
   "metadata": {
    "colab": {
     "base_uri": "https://localhost:8080/"
    },
    "id": "xWl4mcG4Mwo_",
    "outputId": "4ceae41f-ea08-4c78-f046-fb15140c5a2c"
   },
   "outputs": [],
   "source": [
    "import random\n",
    "print('=================================')\n",
    "print('Bienvenido al Juego de Adivinanza')\n",
    "print('=================================')\n",
    "\n",
    "numero_secreto= random.randrange(1,101)\n",
    "\n",
    "print ('Seleccione el nivel de dificultad')\n",
    "print(' (1) Facil  (2) Medio  (3) Dificil')\n",
    "\n",
    "nivel = int(input('Ingrese el nivel de dificultad: '))\n",
    "\n",
    "if (nivel == 1):\n",
    "  total_intentos = 20\n",
    "elif(nivel == 2):\n",
    "  total_intentos = 10\n",
    "else:\n",
    "  total_intentos = 5\n",
    "\n",
    "\n",
    "\n",
    "for iteraccion in range (1, total_intentos +1):\n",
    "  print(\"Intento: {} de {} \" .format(iteraccion,total_intentos))\n",
    "  entrada=input(\"Digite un número \")\n",
    "  entrada=int ( entrada)\n",
    "  print(\"Digitaste ... \", entrada)\n",
    "  if(entrada < 1 or entrada > 100):\n",
    "    print('Ingrese un numero entre 1 y 100: ')\n",
    "    continue\n",
    "\n",
    "\n",
    "  acertaste=entrada==numero_secreto #Iguales\n",
    "  mayor=entrada>numero_secreto #Entrada es mayor\n",
    "  menor=entrada<numero_secreto #Entrada es menor\n",
    "\n",
    "  if(acertaste):\n",
    "    print(\"Felicitaciones, adivinaste el número\")\n",
    "    break\n",
    "  elif(mayor):\n",
    "    print(\"Lo siento, el número que ingresaste es mayor al secreto\")\n",
    "  else:\n",
    "    print(\"Lo siento, el número que ingresaste es menor al secreto\")\n",
    "\n",
    "\n",
    "print(\"Fin del juego\")"
   ]
  },
  {
   "cell_type": "markdown",
   "metadata": {},
   "source": [
    "## Juego del Ahorcado"
   ]
  },
  {
   "cell_type": "code",
   "execution_count": null,
   "metadata": {},
   "outputs": [],
   "source": [
    "print(\"°°°°°°°°°°°°°°°°°°°°°°°°°°°°°°°°°°\")\n",
    "print(\"Bienvenido al juego del ahorcado\")\n",
    "print(\"°°°°°°°°°°°°°°°°°°°°°°°°°°°°°°°°°°\")\n",
    "\n",
    "print(\"Fin del juego\")"
   ]
  },
  {
   "cell_type": "markdown",
   "metadata": {},
   "source": [
    "# Crear set de Juegos"
   ]
  },
  {
   "cell_type": "code",
   "execution_count": null,
   "metadata": {},
   "outputs": [],
   "source": [
    "import ahorcado\n",
    "import adivinanza\n",
    "\n",
    "\n",
    "\n",
    "print('*********************************')\n",
    "print('Elija su Juego')\n",
    "print('*********************************')\n",
    "\n",
    "\n",
    "print('(1) Ahorcado (2) Adivinanza')\n",
    "\n",
    "juego = int(inpu(\"¿Cual juego?\"))\n",
    "\n",
    "if (juego == 1):\n",
    "    print(\"Jugando Ahorcado\")\n",
    "elif (juego == 2):\n",
    "    print(\"Jugando Adivinanza\")\n"
   ]
  },
  {
   "cell_type": "code",
   "execution_count": null,
   "metadata": {},
   "outputs": [],
   "source": [
    "def jugar():\n",
    "    print(\"°°°°°°°°°°°°°°°°°°°°°°°°°°°°°°°°°°\")\n",
    "    print(\"Bienvenido al juego del ahorcado\")\n",
    "    print(\"°°°°°°°°°°°°°°°°°°°°°°°°°°°°°°°°°°\")  \n",
    "    \n",
    "    palabra_secreta = 'mandarina'\n",
    "    \n",
    "    ahorcado = False\n",
    "    acerto = False\n",
    "    \n",
    "    while(not ahorcado and not acerto):\n",
    "        \n",
    "        entrada = input('Ingrese una letra .....')\n",
    "        for letra in palabra_secreta:\n",
    "            \n",
    "            if(entrada==letra):\n",
    "                \n",
    "                print(entrada)\n",
    "        print('jugando.......')\n",
    "        \n",
    "        \n",
    "    print(\"Fin del juego\")\n",
    "    \n",
    "if(__name__ == \"__main__\"):\n",
    "    jugar()\n",
    "    "
   ]
  },
  {
   "cell_type": "code",
   "execution_count": null,
   "metadata": {},
   "outputs": [],
   "source": [
    "palabra= 'mandarina'\n",
    "palabra.capatalize()"
   ]
  },
  {
   "cell_type": "code",
   "execution_count": null,
   "metadata": {},
   "outputs": [],
   "source": [
    "palabra.endswith('na')"
   ]
  },
  {
   "cell_type": "code",
   "execution_count": null,
   "metadata": {},
   "outputs": [],
   "source": [
    "palabra2 = \"PROGRAMACION TRES\"\n",
    "palabra2.lower()"
   ]
  },
  {
   "cell_type": "code",
   "execution_count": null,
   "metadata": {},
   "outputs": [],
   "source": [
    "palabra.upper()"
   ]
  },
  {
   "cell_type": "code",
   "execution_count": null,
   "metadata": {},
   "outputs": [],
   "source": [
    "palabra = \"     abc    \"\n",
    "palabra.strip()"
   ]
  },
  {
   "cell_type": "markdown",
   "metadata": {},
   "source": [
    "# Manipulando Cadenas\n"
   ]
  },
  {
   "cell_type": "code",
   "execution_count": null,
   "metadata": {},
   "outputs": [],
   "source": [
    "palabra =\"mandarina\"\n",
    "type(palabra)"
   ]
  },
  {
   "cell_type": "code",
   "execution_count": null,
   "metadata": {},
   "outputs": [],
   "source": [
    "palabra.find(\"d\")"
   ]
  },
  {
   "cell_type": "code",
   "execution_count": null,
   "metadata": {},
   "outputs": [],
   "source": [
    "palabra.find(\"z\")"
   ]
  },
  {
   "cell_type": "markdown",
   "metadata": {},
   "source": [
    "## Mejorando el Juego"
   ]
  },
  {
   "cell_type": "code",
   "execution_count": null,
   "metadata": {},
   "outputs": [],
   "source": [
    "def jugar():\n",
    "    print(\"°°°°°°°°°°°°°°°°°°°°°°°°°°°°°°°°°°\")\n",
    "    print(\"Bienvenido al juego del ahorcado\")\n",
    "    print(\"°°°°°°°°°°°°°°°°°°°°°°°°°°°°°°°°°°\")  \n",
    "    \n",
    "    palabra_secreta = 'mandarina'\n",
    "    \n",
    "    ahorcado = False\n",
    "    acerto = False\n",
    "    \n",
    "    while(not ahorcado and not acerto):\n",
    "        \n",
    "        entrada = input('Ingrese una letra .....')\n",
    "        entrada = entrada.strip()\n",
    "        entrada = entrada.lower()  #Convierte a letras minusculas \n",
    "        indice = 0\n",
    "        for letra in palabra_secreta:\n",
    "            \n",
    "            if(entrada==letra):\n",
    "                print('Se encontro la letra {} en la posicion {} '.format(letra, indice))\n",
    "               \n",
    "            indice = indice + 1\n",
    "        print('jugando.......')\n",
    "        \n",
    "        \n",
    "    print(\"Fin del juego\")\n",
    "    \n",
    "if(__name__ == \"__main__\"):\n",
    "    jugar()\n",
    "    "
   ]
  },
  {
   "cell_type": "markdown",
   "metadata": {},
   "source": [
    "## Lista"
   ]
  },
  {
   "cell_type": "code",
   "execution_count": null,
   "metadata": {},
   "outputs": [],
   "source": [
    "valores = [0,1,2,3,5,7]"
   ]
  },
  {
   "cell_type": "code",
   "execution_count": null,
   "metadata": {},
   "outputs": [],
   "source": [
    "min(valores)"
   ]
  },
  {
   "cell_type": "code",
   "execution_count": null,
   "metadata": {},
   "outputs": [],
   "source": [
    "max(valores)"
   ]
  },
  {
   "cell_type": "code",
   "execution_count": null,
   "metadata": {},
   "outputs": [],
   "source": [
    "len(valores)"
   ]
  },
  {
   "cell_type": "code",
   "execution_count": null,
   "metadata": {},
   "outputs": [],
   "source": [
    "valores.append(9)\n",
    "valores"
   ]
  },
  {
   "cell_type": "code",
   "execution_count": null,
   "metadata": {},
   "outputs": [],
   "source": [
    "valores.pop()"
   ]
  },
  {
   "cell_type": "code",
   "execution_count": null,
   "metadata": {},
   "outputs": [],
   "source": [
    "valores"
   ]
  },
  {
   "cell_type": "markdown",
   "metadata": {},
   "source": [
    "## Clase 05/09/2023"
   ]
  },
  {
   "cell_type": "code",
   "execution_count": null,
   "metadata": {},
   "outputs": [],
   "source": [
    "def jugar():\n",
    "    print (\"°°°°°°°°°°°°°°°°°°°°°°°°°°°°°°°°°°°\")\n",
    "    print (\"Bienvenido al juego del ahorcado\")\n",
    "    print (\"°°°°°°°°°°°°°°°°°°°°°°°°°°°°°°°°°°°\")\n",
    "    \n",
    "    palabra_secreta = \"mandarina\"\n",
    "    \n",
    "    ahorcado = False\n",
    "    acerto = False\n",
    "    \n",
    "    while(not ahorcado and not acerto):\n",
    "        entrada = input('Ingrese una letra ...')\n",
    "        for letra in palabra_secreta:\n",
    "            if(entrada == letra):\n",
    "                print(\"Jugando....\")\n",
    "        \n",
    "        \n",
    "    print(\"Fin del juego\")\n",
    "    \n",
    "if(__name__ == \"__main__\"):\n",
    "    jugar()"
   ]
  },
  {
   "cell_type": "code",
   "execution_count": null,
   "metadata": {
    "scrolled": true
   },
   "outputs": [],
   "source": [
    "def jugar():\n",
    "    print (\"°°°°°°°°°°°°°°°°°°°°°°°°°°°°°°°°°°°\")\n",
    "    print (\"Bienvenido al juego del ahorcado\")\n",
    "    print (\"°°°°°°°°°°°°°°°°°°°°°°°°°°°°°°°°°°°\")\n",
    "    \n",
    "    palabra_secreta = \"mandarina\"\n",
    "    \n",
    "    ahorcado = False\n",
    "    acerto = False\n",
    "    \n",
    "    while(not ahorcado and not acerto):\n",
    "        entrada = input('Ingrese una letra ...')\n",
    "        indice = 0\n",
    "        for letra in palabra_secreta:\n",
    "            if(entrada == letra):\n",
    "                print(\"Se encontro la letra {} en la posicion {}\".format(letra, indice))\n",
    "                \n",
    "            indice = indice +1\n",
    "        print('jugando....')\n",
    "        \n",
    "    print(\"Fin del juego\")\n",
    "    \n",
    "if(__name__ == \"__main__\"):\n",
    "    jugar()"
   ]
  },
  {
   "cell_type": "code",
   "execution_count": null,
   "metadata": {},
   "outputs": [],
   "source": [
    "def jugar():\n",
    "    print (\"°°°°°°°°°°°°°°°°°°°°°°°°°°°°°°°°°°°\")\n",
    "    print (\"Bienvenido al juego del ahorcado\")\n",
    "    print (\"°°°°°°°°°°°°°°°°°°°°°°°°°°°°°°°°°°°\")\n",
    "    \n",
    "    palabra_secreta = \"mandarina\"\n",
    "    letras_acertadas =['_','_','_','_','_','_','_','_','_',]\n",
    "    \n",
    "    ahorcado = False\n",
    "    acerto = False\n",
    "    \n",
    "    print(letras_acertadas)\n",
    "    while(not ahorcado and not acerto):\n",
    "        entrada = input('Ingrese una letra ...')\n",
    "        entrada = entrada.strip()\n",
    "        entrada = entrada.lower()\n",
    "        indice = 0\n",
    "        for letra in palabra_secreta:\n",
    "            if(entrada == letra):\n",
    "                letras_acertadas[indice] = letra\n",
    "                \n",
    "            indice = indice +1\n",
    "        print(letras_acertadas)\n",
    "        print('jugando....')\n",
    "        \n",
    "    print(\"Fin del juego\")\n",
    "    \n",
    "if(__name__ == \"__main__\"):\n",
    "    jugar()"
   ]
  },
  {
   "cell_type": "code",
   "execution_count": null,
   "metadata": {},
   "outputs": [],
   "source": [
    "serie = range(0,10)\n",
    "serie[2]"
   ]
  },
  {
   "cell_type": "code",
   "execution_count": null,
   "metadata": {},
   "outputs": [],
   "source": [
    "serie[7]"
   ]
  },
  {
   "cell_type": "code",
   "execution_count": null,
   "metadata": {},
   "outputs": [],
   "source": [
    "serie[9]"
   ]
  },
  {
   "cell_type": "code",
   "execution_count": null,
   "metadata": {},
   "outputs": [],
   "source": [
    "dias_laborables = ['lunes','martes','miercoles','jueves','viernes']"
   ]
  },
  {
   "cell_type": "code",
   "execution_count": null,
   "metadata": {},
   "outputs": [],
   "source": [
    "dias_laborables.append('sabado')\n",
    "dias_laborables"
   ]
  },
  {
   "cell_type": "code",
   "execution_count": null,
   "metadata": {},
   "outputs": [],
   "source": [
    "dias_laborables.pop()\n",
    "dias_laborables"
   ]
  },
  {
   "cell_type": "markdown",
   "metadata": {},
   "source": [
    "## Tuplas"
   ]
  },
  {
   "cell_type": "code",
   "execution_count": null,
   "metadata": {},
   "outputs": [],
   "source": [
    "dias = ('Lun','Mar','Mier','Jue','Vie''Sab','Dom')\n",
    "type(dias)"
   ]
  },
  {
   "cell_type": "code",
   "execution_count": null,
   "metadata": {},
   "outputs": [],
   "source": [
    "dias[2]"
   ]
  },
  {
   "cell_type": "code",
   "execution_count": null,
   "metadata": {},
   "outputs": [],
   "source": [
    "dias[5]"
   ]
  },
  {
   "cell_type": "markdown",
   "metadata": {},
   "source": [
    "# Tuplas Oficial"
   ]
  },
  {
   "cell_type": "code",
   "execution_count": null,
   "metadata": {},
   "outputs": [],
   "source": [
    "punto = (3,5)\n",
    "p1 = (3,5)\n",
    "p2 = (4,6)\n",
    "p3 = (5,7)\n",
    "linea = [p1, p2, p3]\n",
    "linea"
   ]
  },
  {
   "cell_type": "code",
   "execution_count": null,
   "metadata": {},
   "outputs": [],
   "source": [
    "p1 = ('Yami Moto',40)\n",
    "p2 = ('Edivaldo',37)\n",
    "p3 = ('Isidoro',39)\n",
    "profesores =[p1, p2, p3]\n",
    "profesores"
   ]
  },
  {
   "cell_type": "code",
   "execution_count": null,
   "metadata": {},
   "outputs": [],
   "source": [
    "profesores[1]"
   ]
  },
  {
   "cell_type": "markdown",
   "metadata": {},
   "source": [
    "## Si solo queremos saber la edad asociada al elemento en la posicion 1..."
   ]
  },
  {
   "cell_type": "code",
   "execution_count": null,
   "metadata": {},
   "outputs": [],
   "source": [
    "profesores[1][1]"
   ]
  },
  {
   "cell_type": "code",
   "execution_count": null,
   "metadata": {},
   "outputs": [],
   "source": [
    "palabra = 'manzana'\n",
    "lista = []\n",
    "for elemento in palabra:\n",
    "    lista.append('_')\n",
    "lista"
   ]
  },
  {
   "cell_type": "markdown",
   "metadata": {},
   "source": [
    "## Archivos"
   ]
  },
  {
   "cell_type": "code",
   "execution_count": null,
   "metadata": {},
   "outputs": [],
   "source": [
    "archivo = open('palabra.txt','w')\n",
    "archivo"
   ]
  },
  {
   "cell_type": "code",
   "execution_count": null,
   "metadata": {},
   "outputs": [],
   "source": [
    "archivo.write('platano')"
   ]
  },
  {
   "cell_type": "code",
   "execution_count": null,
   "metadata": {},
   "outputs": [],
   "source": [
    "archivo.write('durazno')"
   ]
  },
  {
   "cell_type": "code",
   "execution_count": null,
   "metadata": {},
   "outputs": [],
   "source": [
    "archivo.close()"
   ]
  },
  {
   "cell_type": "code",
   "execution_count": null,
   "metadata": {},
   "outputs": [],
   "source": [
    "archivo = open('palabra.txt','a')\n",
    "archivo.write('frutilla\\n')"
   ]
  },
  {
   "cell_type": "code",
   "execution_count": null,
   "metadata": {},
   "outputs": [],
   "source": [
    "archivo.close()"
   ]
  },
  {
   "cell_type": "code",
   "execution_count": null,
   "metadata": {},
   "outputs": [],
   "source": [
    "Archivo = open()"
   ]
  },
  {
   "cell_type": "code",
   "execution_count": null,
   "metadata": {},
   "outputs": [],
   "source": [
    "archivo = open('palabras.txt','r')\n",
    "for linea in archivo:\n",
    "    print(linea)"
   ]
  },
  {
   "cell_type": "markdown",
   "metadata": {},
   "source": [
    "archivo_close()\n",
    "archivo = open('palabras.txt','r')\n",
    "linea = archivo.readline()\n",
    "type(linea)"
   ]
  },
  {
   "cell_type": "code",
   "execution_count": null,
   "metadata": {},
   "outputs": [],
   "source": [
    "nombre = input(\"Por favor, ingresa tu nombre: \")\n",
    "print(\"Hola, {nombre}!\")"
   ]
  },
  {
   "cell_type": "markdown",
   "metadata": {},
   "source": [
    "## Practica"
   ]
  },
  {
   "cell_type": "code",
   "execution_count": null,
   "metadata": {},
   "outputs": [],
   "source": [
    "nombre = input(\"Por favor, ingresa tu nombre: \")\n",
    "print(f\"Hola, {nombre}!\")"
   ]
  },
  {
   "cell_type": "code",
   "execution_count": null,
   "metadata": {},
   "outputs": [],
   "source": [
    "Num1 = float(input(\"Ingresa el primer número: \"))\n",
    "Num2 = float(input(\"Ingresa el segundo número: \"))\n",
    "Num3 = float(input(\"Ingresa el tercer número: \"))\n",
    "if Num1 >= Num2 and Num1 >= Num3:\n",
    "    mayor = Num1\n",
    "elif Num2 >= Num1 and Num2 >= Num3:\n",
    "    mayor = Num2\n",
    "else:\n",
    "    mayor = Num3\n",
    "\n",
    "print(f\"El número mayor es: {mayor}\")"
   ]
  },
  {
   "cell_type": "code",
   "execution_count": null,
   "metadata": {},
   "outputs": [],
   "source": [
    "Numeros = ['']\n",
    "for i in range(i):\n",
    "   Num = int(input(Num))\n",
    "   Numeros.append(Num)\n",
    "print(max(Numeros))"
   ]
  },
  {
   "cell_type": "markdown",
   "metadata": {},
   "source": [
    "## Archivos"
   ]
  },
  {
   "cell_type": "code",
   "execution_count": null,
   "metadata": {},
   "outputs": [],
   "source": [
    "archivo = open(\"palabras.txt\",\"w\")\n",
    "archivo"
   ]
  },
  {
   "cell_type": "code",
   "execution_count": null,
   "metadata": {},
   "outputs": [],
   "source": [
    "archivo.write(\"plátano\")"
   ]
  },
  {
   "cell_type": "code",
   "execution_count": null,
   "metadata": {},
   "outputs": [],
   "source": [
    "archivo.write(\"durazno\")\n"
   ]
  },
  {
   "cell_type": "code",
   "execution_count": null,
   "metadata": {},
   "outputs": [],
   "source": [
    "archivo.close()"
   ]
  },
  {
   "cell_type": "code",
   "execution_count": null,
   "metadata": {},
   "outputs": [],
   "source": [
    "archivo = open(\"palabras.txt\",\"a\")\n",
    "archivo.write(\"frutilla\\n\")"
   ]
  },
  {
   "cell_type": "code",
   "execution_count": null,
   "metadata": {},
   "outputs": [],
   "source": [
    "archivo.write(\"manzana\\n\")"
   ]
  },
  {
   "cell_type": "code",
   "execution_count": null,
   "metadata": {},
   "outputs": [],
   "source": [
    "archivo.close()"
   ]
  },
  {
   "cell_type": "markdown",
   "metadata": {},
   "source": [
    "## Leyendo un Archivo"
   ]
  },
  {
   "cell_type": "code",
   "execution_count": null,
   "metadata": {},
   "outputs": [],
   "source": [
    "archivo = open(\"Palabras.txt\",\"r\") #abrimos solo el archivo para lectura"
   ]
  },
  {
   "cell_type": "code",
   "execution_count": null,
   "metadata": {},
   "outputs": [],
   "source": [
    "archivo.write(\"chirimoya\")"
   ]
  },
  {
   "cell_type": "code",
   "execution_count": null,
   "metadata": {},
   "outputs": [],
   "source": [
    "archivo.read()"
   ]
  },
  {
   "cell_type": "code",
   "execution_count": null,
   "metadata": {},
   "outputs": [],
   "source": [
    "archivo.read()"
   ]
  },
  {
   "cell_type": "code",
   "execution_count": null,
   "metadata": {},
   "outputs": [],
   "source": [
    "archivo.close()"
   ]
  },
  {
   "cell_type": "markdown",
   "metadata": {},
   "source": [
    "## Queremos leer línea por línea, no todo el archivo"
   ]
  },
  {
   "cell_type": "code",
   "execution_count": null,
   "metadata": {},
   "outputs": [],
   "source": [
    "archivo = open(\"Palabras.txt\",\"r\")\n",
    "for linea in archivo:\n",
    "    print(linea)"
   ]
  },
  {
   "cell_type": "code",
   "execution_count": null,
   "metadata": {},
   "outputs": [],
   "source": [
    "archivo.close()\n",
    "archivo = open(\"Palabras.txt\",\"r\")\n",
    "linea = archivo.readline()\n",
    "type(linea)"
   ]
  },
  {
   "cell_type": "code",
   "execution_count": null,
   "metadata": {},
   "outputs": [],
   "source": [
    "for linea in archivo:\n",
    "    print(linea)"
   ]
  },
  {
   "cell_type": "code",
   "execution_count": null,
   "metadata": {},
   "outputs": [],
   "source": [
    "linea"
   ]
  },
  {
   "cell_type": "code",
   "execution_count": null,
   "metadata": {},
   "outputs": [],
   "source": [
    "linea.strip()"
   ]
  },
  {
   "cell_type": "markdown",
   "metadata": {},
   "source": [
    "## Practica de clase lectura de numeros"
   ]
  },
  {
   "cell_type": "code",
   "execution_count": null,
   "metadata": {},
   "outputs": [],
   "source": [
    "Unidades = ['Cero', 'Uno', 'Dos', 'Tres', 'Cuatro', 'Cinco', 'Seis', 'Siete', 'Ocho','Nueve']\n",
    "literal =''\n",
    "numero = int(input('Ingrese un numero: ' ))\n",
    "literal = Unidades[numero]\n",
    "literal"
   ]
  },
  {
   "cell_type": "code",
   "execution_count": null,
   "metadata": {},
   "outputs": [],
   "source": [
    "Unidades = ['Cero', 'Uno', 'Dos', 'Tres', 'Cuatro', 'Cinco', 'Seis', 'Siete', 'Ocho','Nueve']\n",
    "Decenas = ['','Diez','Veinte', 'Treinta', 'Cuarenta', 'Cincuenta', 'Sesenta', 'Setenta', 'Ochenta','Noventa']\n",
    "Dieces = ['','Once', 'Doce', 'Trece', 'Catorce', 'Quince', 'Dieciseis', 'Diecisiete', 'Dieciocho', 'Diecinueve',]\n",
    "literal =''\n",
    "numero = input('Ingrese un numero: ' )\n",
    "posicion = 2\n",
    "for indice in numero:\n",
    "    if posicion == 2:\n",
    "       literal = literal+' ' + Decenas[int(indice)]\n",
    "    if posicion == 1:\n",
    "        literal= literal+' ' + Unidades[int(indice)]\n",
    "    posicion = posicion-1\n",
    "print(literal)\n"
   ]
  },
  {
   "cell_type": "code",
   "execution_count": null,
   "metadata": {},
   "outputs": [],
   "source": [
    "Unidades = ['Cero', 'Uno', 'Dos', 'Tres', 'Cuatro', 'Cinco', 'Seis', 'Siete', 'Ocho','Nueve']\n",
    "Decenas = ['','Diez','Veinte', 'Treinta', 'Cuarenta', 'Cincuenta', 'Sesenta', 'Setenta', 'Ochenta','Noventa']\n",
    "Dieces = ['','Once', 'Doce', 'Trece', 'Catorce', 'Quince', 'Dieciseis', 'Diecisiete', 'Dieciocho', 'Diecinueve',]\n",
    "literal =''\n",
    "numero = input('Ingrese un numero: ' )\n",
    "posicion = 2\n",
    "for indice in numero:\n",
    "    if posicion == 2 and indice == '1':\n",
    "        literal = literal+Dieces[int(numero[1])] \n",
    "        break\n",
    "        print('literal= ',literal)\n",
    "    if posicion == 2 and indice!= '1':\n",
    "       literal = literal+' ' + Decenas[int(indice)]\n",
    "    if posicion == 1:\n",
    "        literal= literal+' ' + Unidades[int(indice)]\n",
    "    posicion = posicion-1\n",
    "print(literal)"
   ]
  },
  {
   "cell_type": "markdown",
   "metadata": {},
   "source": [
    "## Juego Ahorcado Mejorado Refactory"
   ]
  },
  {
   "cell_type": "code",
   "execution_count": 1,
   "metadata": {},
   "outputs": [
    {
     "name": "stdout",
     "output_type": "stream",
     "text": [
      "°°°°°°°°°°°°°°°°°°°°°°°°°°°°°°°°°°°\n",
      "Bienvenido al juego del ahorcado\n",
      "°°°°°°°°°°°°°°°°°°°°°°°°°°°°°°°°°°°\n",
      "['_', '_', '_', '_', '_', '_', '_']\n"
     ]
    },
    {
     "ename": "KeyboardInterrupt",
     "evalue": "Interrupted by user",
     "output_type": "error",
     "traceback": [
      "\u001b[1;31m---------------------------------------------------------------------------\u001b[0m",
      "\u001b[1;31mKeyboardInterrupt\u001b[0m                         Traceback (most recent call last)",
      "Cell \u001b[1;32mIn[1], line 60\u001b[0m\n\u001b[0;32m     57\u001b[0m     \u001b[38;5;28mprint\u001b[39m(\u001b[38;5;124m\"\u001b[39m\u001b[38;5;124mFin del juego\u001b[39m\u001b[38;5;124m\"\u001b[39m)\n\u001b[0;32m     59\u001b[0m \u001b[38;5;28;01mif\u001b[39;00m(\u001b[38;5;18m__name__\u001b[39m \u001b[38;5;241m==\u001b[39m \u001b[38;5;124m\"\u001b[39m\u001b[38;5;124m__main__\u001b[39m\u001b[38;5;124m\"\u001b[39m):\n\u001b[1;32m---> 60\u001b[0m     jugar()\n",
      "Cell \u001b[1;32mIn[1], line 33\u001b[0m, in \u001b[0;36mjugar\u001b[1;34m()\u001b[0m\n\u001b[0;32m     31\u001b[0m \u001b[38;5;28mprint\u001b[39m(letras_acertadas)\n\u001b[0;32m     32\u001b[0m \u001b[38;5;28;01mwhile\u001b[39;00m(\u001b[38;5;129;01mnot\u001b[39;00m ahorcado \u001b[38;5;129;01mand\u001b[39;00m \u001b[38;5;129;01mnot\u001b[39;00m acerto):\n\u001b[1;32m---> 33\u001b[0m     entrada \u001b[38;5;241m=\u001b[39m \u001b[38;5;28minput\u001b[39m (\u001b[38;5;124m\"\u001b[39m\u001b[38;5;124mIngrese una letra...\u001b[39m\u001b[38;5;124m\"\u001b[39m)\n\u001b[0;32m     34\u001b[0m     entrada \u001b[38;5;241m=\u001b[39m entrada\u001b[38;5;241m.\u001b[39mstrip()                \u001b[38;5;66;03m# elimina el espacion en blanco a la izquierda\u001b[39;00m\n\u001b[0;32m     35\u001b[0m     entrada \u001b[38;5;241m=\u001b[39m entrada\u001b[38;5;241m.\u001b[39mlower()                \u001b[38;5;66;03m# convierte a letras minusculas\u001b[39;00m\n",
      "File \u001b[1;32m~\\Anaconda\\Lib\\site-packages\\ipykernel\\kernelbase.py:1175\u001b[0m, in \u001b[0;36mKernel.raw_input\u001b[1;34m(self, prompt)\u001b[0m\n\u001b[0;32m   1171\u001b[0m \u001b[38;5;28;01mif\u001b[39;00m \u001b[38;5;129;01mnot\u001b[39;00m \u001b[38;5;28mself\u001b[39m\u001b[38;5;241m.\u001b[39m_allow_stdin:\n\u001b[0;32m   1172\u001b[0m     \u001b[38;5;28;01mraise\u001b[39;00m StdinNotImplementedError(\n\u001b[0;32m   1173\u001b[0m         \u001b[38;5;124m\"\u001b[39m\u001b[38;5;124mraw_input was called, but this frontend does not support input requests.\u001b[39m\u001b[38;5;124m\"\u001b[39m\n\u001b[0;32m   1174\u001b[0m     )\n\u001b[1;32m-> 1175\u001b[0m \u001b[38;5;28;01mreturn\u001b[39;00m \u001b[38;5;28mself\u001b[39m\u001b[38;5;241m.\u001b[39m_input_request(\n\u001b[0;32m   1176\u001b[0m     \u001b[38;5;28mstr\u001b[39m(prompt),\n\u001b[0;32m   1177\u001b[0m     \u001b[38;5;28mself\u001b[39m\u001b[38;5;241m.\u001b[39m_parent_ident[\u001b[38;5;124m\"\u001b[39m\u001b[38;5;124mshell\u001b[39m\u001b[38;5;124m\"\u001b[39m],\n\u001b[0;32m   1178\u001b[0m     \u001b[38;5;28mself\u001b[39m\u001b[38;5;241m.\u001b[39mget_parent(\u001b[38;5;124m\"\u001b[39m\u001b[38;5;124mshell\u001b[39m\u001b[38;5;124m\"\u001b[39m),\n\u001b[0;32m   1179\u001b[0m     password\u001b[38;5;241m=\u001b[39m\u001b[38;5;28;01mFalse\u001b[39;00m,\n\u001b[0;32m   1180\u001b[0m )\n",
      "File \u001b[1;32m~\\Anaconda\\Lib\\site-packages\\ipykernel\\kernelbase.py:1217\u001b[0m, in \u001b[0;36mKernel._input_request\u001b[1;34m(self, prompt, ident, parent, password)\u001b[0m\n\u001b[0;32m   1214\u001b[0m             \u001b[38;5;28;01mbreak\u001b[39;00m\n\u001b[0;32m   1215\u001b[0m \u001b[38;5;28;01mexcept\u001b[39;00m \u001b[38;5;167;01mKeyboardInterrupt\u001b[39;00m:\n\u001b[0;32m   1216\u001b[0m     \u001b[38;5;66;03m# re-raise KeyboardInterrupt, to truncate traceback\u001b[39;00m\n\u001b[1;32m-> 1217\u001b[0m     \u001b[38;5;28;01mraise\u001b[39;00m \u001b[38;5;167;01mKeyboardInterrupt\u001b[39;00m(\u001b[38;5;124m\"\u001b[39m\u001b[38;5;124mInterrupted by user\u001b[39m\u001b[38;5;124m\"\u001b[39m) \u001b[38;5;28;01mfrom\u001b[39;00m \u001b[38;5;28;01mNone\u001b[39;00m\n\u001b[0;32m   1218\u001b[0m \u001b[38;5;28;01mexcept\u001b[39;00m \u001b[38;5;167;01mException\u001b[39;00m:\n\u001b[0;32m   1219\u001b[0m     \u001b[38;5;28mself\u001b[39m\u001b[38;5;241m.\u001b[39mlog\u001b[38;5;241m.\u001b[39mwarning(\u001b[38;5;124m\"\u001b[39m\u001b[38;5;124mInvalid Message:\u001b[39m\u001b[38;5;124m\"\u001b[39m, exc_info\u001b[38;5;241m=\u001b[39m\u001b[38;5;28;01mTrue\u001b[39;00m)\n",
      "\u001b[1;31mKeyboardInterrupt\u001b[0m: Interrupted by user"
     ]
    }
   ],
   "source": [
    "import random\n",
    "\n",
    "def imprimir_mensaje_inicial():\n",
    "    print (\"°°°°°°°°°°°°°°°°°°°°°°°°°°°°°°°°°°°\")\n",
    "    print (\"Bienvenido al juego del ahorcado\")\n",
    "    print (\"°°°°°°°°°°°°°°°°°°°°°°°°°°°°°°°°°°°\")\n",
    "\n",
    "def jugar():\n",
    "    \n",
    "    imprimir_mensaje_inicial()\n",
    "    \n",
    "    palabra_secreta = \"mandarina\"\n",
    "    letras_acertadas = [\"_\" for elemento in palabra_secreta]\n",
    "    \n",
    "    archivo = open (\"palabras.txt\",\"r\")\n",
    "    palabras = []\n",
    "    for linea in archivo:\n",
    "        linea = linea.strip()\n",
    "        palabras.append(linea)\n",
    "        \n",
    "    archivo.close()\n",
    "    numero = random.randrange(0,len(palabras))          #Indice para las palabras\n",
    "    \n",
    "    palabra_secreta = palabras[numero].lower()\n",
    "    letras_acertadas = [\"_\" for elemento in palabra_secreta]\n",
    "    \n",
    "    ahorcado = False\n",
    "    acerto = False\n",
    "    errores = 0 #Contador de errores\n",
    "    \n",
    "    print(letras_acertadas)\n",
    "    while(not ahorcado and not acerto):\n",
    "        entrada = input (\"Ingrese una letra...\")\n",
    "        entrada = entrada.strip()                # elimina el espacion en blanco a la izquierda\n",
    "        entrada = entrada.lower()                # convierte a letras minusculas\n",
    "        \n",
    "        if entrada in palabra_secreta:\n",
    "            indice = 0\n",
    "            for letra in palabra_secreta:\n",
    "                if(entrada==letra):\n",
    "                    letras_acertadas[indice] = letra\n",
    "\n",
    "                indice = indice + 1\n",
    "        else:\n",
    "            errores += 1\n",
    "            \n",
    "        ahorcado = errores == 9\n",
    "        acerto = \"_\" not in letras_acertadas\n",
    "        print(letras_acertadas)\n",
    "        \n",
    "    if(acerto):\n",
    "        print(\"Felicitaciones, ganaste!!\")\n",
    "    else:\n",
    "        print(\"Lo siento, perdiste!!\")\n",
    "        \n",
    "\n",
    "    print(\"Fin del juego\")\n",
    "    \n",
    "if(__name__ == \"__main__\"):\n",
    "    jugar()"
   ]
  },
  {
   "cell_type": "code",
   "execution_count": 6,
   "metadata": {},
   "outputs": [
    {
     "name": "stdout",
     "output_type": "stream",
     "text": [
      "°°°°°°°°°°°°°°°°°°°°°°°°°°°°°°°°°°°\n",
      "Bienvenido al juego del ahorcado\n",
      "°°°°°°°°°°°°°°°°°°°°°°°°°°°°°°°°°°°\n",
      "['_', '_', '_', '_', '_', '_', '_', '_']\n"
     ]
    },
    {
     "ename": "KeyboardInterrupt",
     "evalue": "Interrupted by user",
     "output_type": "error",
     "traceback": [
      "\u001b[1;31m---------------------------------------------------------------------------\u001b[0m",
      "\u001b[1;31mKeyboardInterrupt\u001b[0m                         Traceback (most recent call last)",
      "Cell \u001b[1;32mIn[6], line 65\u001b[0m\n\u001b[0;32m     62\u001b[0m     \u001b[38;5;28mprint\u001b[39m(\u001b[38;5;124m\"\u001b[39m\u001b[38;5;124mFin del juego\u001b[39m\u001b[38;5;124m\"\u001b[39m)\n\u001b[0;32m     64\u001b[0m \u001b[38;5;28;01mif\u001b[39;00m(\u001b[38;5;18m__name__\u001b[39m \u001b[38;5;241m==\u001b[39m \u001b[38;5;124m\"\u001b[39m\u001b[38;5;124m__main__\u001b[39m\u001b[38;5;124m\"\u001b[39m):\n\u001b[1;32m---> 65\u001b[0m     jugar()\n",
      "Cell \u001b[1;32mIn[6], line 38\u001b[0m, in \u001b[0;36mjugar\u001b[1;34m()\u001b[0m\n\u001b[0;32m     36\u001b[0m \u001b[38;5;28mprint\u001b[39m(letras_acertadas)\n\u001b[0;32m     37\u001b[0m \u001b[38;5;28;01mwhile\u001b[39;00m(\u001b[38;5;129;01mnot\u001b[39;00m ahorcado \u001b[38;5;129;01mand\u001b[39;00m \u001b[38;5;129;01mnot\u001b[39;00m acerto):\n\u001b[1;32m---> 38\u001b[0m     entrada \u001b[38;5;241m=\u001b[39m \u001b[38;5;28minput\u001b[39m (\u001b[38;5;124m\"\u001b[39m\u001b[38;5;124mIngrese una letra...\u001b[39m\u001b[38;5;124m\"\u001b[39m)\n\u001b[0;32m     39\u001b[0m     entrada \u001b[38;5;241m=\u001b[39m entrada\u001b[38;5;241m.\u001b[39mstrip()                \u001b[38;5;66;03m# elimina el espacion en blanco a la izquierda\u001b[39;00m\n\u001b[0;32m     40\u001b[0m     entrada \u001b[38;5;241m=\u001b[39m entrada\u001b[38;5;241m.\u001b[39mlower()                \u001b[38;5;66;03m# convierte a letras minusculas\u001b[39;00m\n",
      "File \u001b[1;32m~\\Anaconda\\Lib\\site-packages\\ipykernel\\kernelbase.py:1175\u001b[0m, in \u001b[0;36mKernel.raw_input\u001b[1;34m(self, prompt)\u001b[0m\n\u001b[0;32m   1171\u001b[0m \u001b[38;5;28;01mif\u001b[39;00m \u001b[38;5;129;01mnot\u001b[39;00m \u001b[38;5;28mself\u001b[39m\u001b[38;5;241m.\u001b[39m_allow_stdin:\n\u001b[0;32m   1172\u001b[0m     \u001b[38;5;28;01mraise\u001b[39;00m StdinNotImplementedError(\n\u001b[0;32m   1173\u001b[0m         \u001b[38;5;124m\"\u001b[39m\u001b[38;5;124mraw_input was called, but this frontend does not support input requests.\u001b[39m\u001b[38;5;124m\"\u001b[39m\n\u001b[0;32m   1174\u001b[0m     )\n\u001b[1;32m-> 1175\u001b[0m \u001b[38;5;28;01mreturn\u001b[39;00m \u001b[38;5;28mself\u001b[39m\u001b[38;5;241m.\u001b[39m_input_request(\n\u001b[0;32m   1176\u001b[0m     \u001b[38;5;28mstr\u001b[39m(prompt),\n\u001b[0;32m   1177\u001b[0m     \u001b[38;5;28mself\u001b[39m\u001b[38;5;241m.\u001b[39m_parent_ident[\u001b[38;5;124m\"\u001b[39m\u001b[38;5;124mshell\u001b[39m\u001b[38;5;124m\"\u001b[39m],\n\u001b[0;32m   1178\u001b[0m     \u001b[38;5;28mself\u001b[39m\u001b[38;5;241m.\u001b[39mget_parent(\u001b[38;5;124m\"\u001b[39m\u001b[38;5;124mshell\u001b[39m\u001b[38;5;124m\"\u001b[39m),\n\u001b[0;32m   1179\u001b[0m     password\u001b[38;5;241m=\u001b[39m\u001b[38;5;28;01mFalse\u001b[39;00m,\n\u001b[0;32m   1180\u001b[0m )\n",
      "File \u001b[1;32m~\\Anaconda\\Lib\\site-packages\\ipykernel\\kernelbase.py:1217\u001b[0m, in \u001b[0;36mKernel._input_request\u001b[1;34m(self, prompt, ident, parent, password)\u001b[0m\n\u001b[0;32m   1214\u001b[0m             \u001b[38;5;28;01mbreak\u001b[39;00m\n\u001b[0;32m   1215\u001b[0m \u001b[38;5;28;01mexcept\u001b[39;00m \u001b[38;5;167;01mKeyboardInterrupt\u001b[39;00m:\n\u001b[0;32m   1216\u001b[0m     \u001b[38;5;66;03m# re-raise KeyboardInterrupt, to truncate traceback\u001b[39;00m\n\u001b[1;32m-> 1217\u001b[0m     \u001b[38;5;28;01mraise\u001b[39;00m \u001b[38;5;167;01mKeyboardInterrupt\u001b[39;00m(\u001b[38;5;124m\"\u001b[39m\u001b[38;5;124mInterrupted by user\u001b[39m\u001b[38;5;124m\"\u001b[39m) \u001b[38;5;28;01mfrom\u001b[39;00m \u001b[38;5;28;01mNone\u001b[39;00m\n\u001b[0;32m   1218\u001b[0m \u001b[38;5;28;01mexcept\u001b[39;00m \u001b[38;5;167;01mException\u001b[39;00m:\n\u001b[0;32m   1219\u001b[0m     \u001b[38;5;28mself\u001b[39m\u001b[38;5;241m.\u001b[39mlog\u001b[38;5;241m.\u001b[39mwarning(\u001b[38;5;124m\"\u001b[39m\u001b[38;5;124mInvalid Message:\u001b[39m\u001b[38;5;124m\"\u001b[39m, exc_info\u001b[38;5;241m=\u001b[39m\u001b[38;5;28;01mTrue\u001b[39;00m)\n",
      "\u001b[1;31mKeyboardInterrupt\u001b[0m: Interrupted by user"
     ]
    }
   ],
   "source": [
    "import random\n",
    "\n",
    "def imprimir_mensaje_inicial():\n",
    "    print (\"°°°°°°°°°°°°°°°°°°°°°°°°°°°°°°°°°°°\")\n",
    "    print (\"Bienvenido al juego del ahorcado\")\n",
    "    print (\"°°°°°°°°°°°°°°°°°°°°°°°°°°°°°°°°°°°\")\n",
    "    \n",
    "def definir_palabra_secreta():\n",
    "    archivo = open (\"palabras.txt\",\"r\")\n",
    "    palabras = []\n",
    "    for linea in archivo:\n",
    "        linea = linea.strip()\n",
    "        palabras.append(linea)\n",
    "        \n",
    "    archivo.close()\n",
    "    numero = random.randrange(0,len(palabras))          #Indice para las palabras\n",
    "    palabra_secreta = palabras[numero].lower()\n",
    "    return palabra_secreta\n",
    "\n",
    "\n",
    "def inicializar_letras_acertadas(palabra_secreta):\n",
    "    return [\"_\" for elemento in palabra_secreta]\n",
    "\n",
    "\n",
    "def jugar():\n",
    "    \n",
    "    imprimir_mensaje_inicial()\n",
    "    \n",
    "    palabra_secreta = definir_palabra_secreta()\n",
    "    \n",
    "    letras_acertadas = inicializar_letras_acertadas(palabra_secreta)\n",
    "    ahorcado = False\n",
    "    acerto = False\n",
    "    errores = 0 #Contador de errores\n",
    "    \n",
    "    print(letras_acertadas)\n",
    "    while(not ahorcado and not acerto):\n",
    "        entrada = input (\"Ingrese una letra...\")\n",
    "        entrada = entrada.strip()                # elimina el espacion en blanco a la izquierda\n",
    "        entrada = entrada.lower()                # convierte a letras minusculas\n",
    "        \n",
    "        if entrada in palabra_secreta:\n",
    "            indice = 0\n",
    "            for letra in palabra_secreta:\n",
    "                if(entrada==letra):\n",
    "                    letras_acertadas[indice] = letra\n",
    "\n",
    "                indice = indice + 1\n",
    "        else:\n",
    "            errores += 1\n",
    "            \n",
    "        ahorcado = errores == 9\n",
    "        acerto = \"_\" not in letras_acertadas\n",
    "        print(letras_acertadas)\n",
    "        \n",
    "    if(acerto):\n",
    "        print(\"Felicitaciones, ganaste!!\")\n",
    "    else:\n",
    "        print(\"Lo siento, perdiste!!\")\n",
    "        \n",
    "\n",
    "    print(\"Fin del juego\")\n",
    "    \n",
    "if(__name__ == \"__main__\"):\n",
    "    jugar()"
   ]
  },
  {
   "cell_type": "code",
   "execution_count": 7,
   "metadata": {},
   "outputs": [
    {
     "name": "stdout",
     "output_type": "stream",
     "text": [
      "°°°°°°°°°°°°°°°°°°°°°°°°°°°°°°°°°°°\n",
      "Bienvenido al juego del ahorcado\n",
      "°°°°°°°°°°°°°°°°°°°°°°°°°°°°°°°°°°°\n",
      "['_', '_', '_', '_', '_', '_', '_', '_']\n"
     ]
    },
    {
     "ename": "KeyboardInterrupt",
     "evalue": "Interrupted by user",
     "output_type": "error",
     "traceback": [
      "\u001b[1;31m---------------------------------------------------------------------------\u001b[0m",
      "\u001b[1;31mKeyboardInterrupt\u001b[0m                         Traceback (most recent call last)",
      "Cell \u001b[1;32mIn[7], line 65\u001b[0m\n\u001b[0;32m     62\u001b[0m     \u001b[38;5;28mprint\u001b[39m(\u001b[38;5;124m\"\u001b[39m\u001b[38;5;124mFin del juego\u001b[39m\u001b[38;5;124m\"\u001b[39m)\n\u001b[0;32m     64\u001b[0m \u001b[38;5;28;01mif\u001b[39;00m(\u001b[38;5;18m__name__\u001b[39m \u001b[38;5;241m==\u001b[39m \u001b[38;5;124m\"\u001b[39m\u001b[38;5;124m__main__\u001b[39m\u001b[38;5;124m\"\u001b[39m):\n\u001b[1;32m---> 65\u001b[0m     jugar()\n",
      "Cell \u001b[1;32mIn[7], line 38\u001b[0m, in \u001b[0;36mjugar\u001b[1;34m()\u001b[0m\n\u001b[0;32m     36\u001b[0m \u001b[38;5;28mprint\u001b[39m(letras_acertadas)\n\u001b[0;32m     37\u001b[0m \u001b[38;5;28;01mwhile\u001b[39;00m(\u001b[38;5;129;01mnot\u001b[39;00m ahorcado \u001b[38;5;129;01mand\u001b[39;00m \u001b[38;5;129;01mnot\u001b[39;00m acerto):\n\u001b[1;32m---> 38\u001b[0m     entrada \u001b[38;5;241m=\u001b[39m \u001b[38;5;28minput\u001b[39m (\u001b[38;5;124m\"\u001b[39m\u001b[38;5;124mIngrese una letra...\u001b[39m\u001b[38;5;124m\"\u001b[39m)\n\u001b[0;32m     39\u001b[0m     entrada \u001b[38;5;241m=\u001b[39m entrada\u001b[38;5;241m.\u001b[39mstrip()                \u001b[38;5;66;03m# elimina el espacion en blanco a la izquierda\u001b[39;00m\n\u001b[0;32m     40\u001b[0m     entrada \u001b[38;5;241m=\u001b[39m entrada\u001b[38;5;241m.\u001b[39mlower()                \u001b[38;5;66;03m# convierte a letras minusculas\u001b[39;00m\n",
      "File \u001b[1;32m~\\Anaconda\\Lib\\site-packages\\ipykernel\\kernelbase.py:1175\u001b[0m, in \u001b[0;36mKernel.raw_input\u001b[1;34m(self, prompt)\u001b[0m\n\u001b[0;32m   1171\u001b[0m \u001b[38;5;28;01mif\u001b[39;00m \u001b[38;5;129;01mnot\u001b[39;00m \u001b[38;5;28mself\u001b[39m\u001b[38;5;241m.\u001b[39m_allow_stdin:\n\u001b[0;32m   1172\u001b[0m     \u001b[38;5;28;01mraise\u001b[39;00m StdinNotImplementedError(\n\u001b[0;32m   1173\u001b[0m         \u001b[38;5;124m\"\u001b[39m\u001b[38;5;124mraw_input was called, but this frontend does not support input requests.\u001b[39m\u001b[38;5;124m\"\u001b[39m\n\u001b[0;32m   1174\u001b[0m     )\n\u001b[1;32m-> 1175\u001b[0m \u001b[38;5;28;01mreturn\u001b[39;00m \u001b[38;5;28mself\u001b[39m\u001b[38;5;241m.\u001b[39m_input_request(\n\u001b[0;32m   1176\u001b[0m     \u001b[38;5;28mstr\u001b[39m(prompt),\n\u001b[0;32m   1177\u001b[0m     \u001b[38;5;28mself\u001b[39m\u001b[38;5;241m.\u001b[39m_parent_ident[\u001b[38;5;124m\"\u001b[39m\u001b[38;5;124mshell\u001b[39m\u001b[38;5;124m\"\u001b[39m],\n\u001b[0;32m   1178\u001b[0m     \u001b[38;5;28mself\u001b[39m\u001b[38;5;241m.\u001b[39mget_parent(\u001b[38;5;124m\"\u001b[39m\u001b[38;5;124mshell\u001b[39m\u001b[38;5;124m\"\u001b[39m),\n\u001b[0;32m   1179\u001b[0m     password\u001b[38;5;241m=\u001b[39m\u001b[38;5;28;01mFalse\u001b[39;00m,\n\u001b[0;32m   1180\u001b[0m )\n",
      "File \u001b[1;32m~\\Anaconda\\Lib\\site-packages\\ipykernel\\kernelbase.py:1217\u001b[0m, in \u001b[0;36mKernel._input_request\u001b[1;34m(self, prompt, ident, parent, password)\u001b[0m\n\u001b[0;32m   1214\u001b[0m             \u001b[38;5;28;01mbreak\u001b[39;00m\n\u001b[0;32m   1215\u001b[0m \u001b[38;5;28;01mexcept\u001b[39;00m \u001b[38;5;167;01mKeyboardInterrupt\u001b[39;00m:\n\u001b[0;32m   1216\u001b[0m     \u001b[38;5;66;03m# re-raise KeyboardInterrupt, to truncate traceback\u001b[39;00m\n\u001b[1;32m-> 1217\u001b[0m     \u001b[38;5;28;01mraise\u001b[39;00m \u001b[38;5;167;01mKeyboardInterrupt\u001b[39;00m(\u001b[38;5;124m\"\u001b[39m\u001b[38;5;124mInterrupted by user\u001b[39m\u001b[38;5;124m\"\u001b[39m) \u001b[38;5;28;01mfrom\u001b[39;00m \u001b[38;5;28;01mNone\u001b[39;00m\n\u001b[0;32m   1218\u001b[0m \u001b[38;5;28;01mexcept\u001b[39;00m \u001b[38;5;167;01mException\u001b[39;00m:\n\u001b[0;32m   1219\u001b[0m     \u001b[38;5;28mself\u001b[39m\u001b[38;5;241m.\u001b[39mlog\u001b[38;5;241m.\u001b[39mwarning(\u001b[38;5;124m\"\u001b[39m\u001b[38;5;124mInvalid Message:\u001b[39m\u001b[38;5;124m\"\u001b[39m, exc_info\u001b[38;5;241m=\u001b[39m\u001b[38;5;28;01mTrue\u001b[39;00m)\n",
      "\u001b[1;31mKeyboardInterrupt\u001b[0m: Interrupted by user"
     ]
    }
   ],
   "source": [
    "import random\n",
    "\n",
    "def imprimir_mensaje_inicial():\n",
    "    print (\"°°°°°°°°°°°°°°°°°°°°°°°°°°°°°°°°°°°\")\n",
    "    print (\"Bienvenido al juego del ahorcado\")\n",
    "    print (\"°°°°°°°°°°°°°°°°°°°°°°°°°°°°°°°°°°°\")\n",
    "    \n",
    "def definir_palabra_secreta():\n",
    "    archivo = open (\"palabras.txt\",\"r\")\n",
    "    palabras = []\n",
    "    for linea in archivo:\n",
    "        linea = linea.strip()\n",
    "        palabras.append(linea)\n",
    "        \n",
    "    archivo.close()\n",
    "    numero = random.randrange(0,len(palabras))          #Indice para las palabras\n",
    "    palabra_secreta = palabras[numero].lower()\n",
    "    return palabra_secreta\n",
    "\n",
    "\n",
    "def inicializar_letras_acertadas(palabra_secreta):\n",
    "    return [\"_\" for elemento in palabra_secreta]\n",
    "\n",
    "\n",
    "def jugar():\n",
    "    \n",
    "    imprimir_mensaje_inicial()\n",
    "    \n",
    "    palabra_secreta = definir_palabra_secreta()\n",
    "    \n",
    "    letras_acertadas = inicializar_letras_acertadas(palabra_secreta)\n",
    "    ahorcado = False\n",
    "    acerto = False\n",
    "    errores = 0 #Contador de errores\n",
    "    \n",
    "    print(letras_acertadas)\n",
    "    while(not ahorcado and not acerto):\n",
    "        entrada = input (\"Ingrese una letra...\")\n",
    "        entrada = entrada.strip()                # elimina el espacion en blanco a la izquierda\n",
    "        entrada = entrada.lower()                # convierte a letras minusculas\n",
    "        \n",
    "        if entrada in palabra_secreta:\n",
    "            indice = 0\n",
    "            for letra in palabra_secreta:\n",
    "                if(entrada==letra):\n",
    "                    letras_acertadas[indice] = letra\n",
    "\n",
    "                indice = indice + 1\n",
    "        else:\n",
    "            errores += 1\n",
    "            \n",
    "        ahorcado = errores == 9\n",
    "        acerto = \"_\" not in letras_acertadas\n",
    "        print(letras_acertadas)\n",
    "        \n",
    "    if(acerto):\n",
    "        print(\"Felicitaciones, ganaste!!\")\n",
    "    else:\n",
    "        print(\"Lo siento, perdiste!!\")\n",
    "        \n",
    "\n",
    "    print(\"Fin del juego\")\n",
    "    \n",
    "if(__name__ == \"__main__\"):\n",
    "    jugar()"
   ]
  },
  {
   "cell_type": "code",
   "execution_count": 21,
   "metadata": {},
   "outputs": [
    {
     "name": "stdout",
     "output_type": "stream",
     "text": [
      "================================\n",
      "Bienvenido al Juego del Ahorcado\n",
      "================================\n",
      "['_', '_', '_', '_', '_', '_', '_']\n"
     ]
    },
    {
     "ename": "KeyboardInterrupt",
     "evalue": "Interrupted by user",
     "output_type": "error",
     "traceback": [
      "\u001b[1;31m---------------------------------------------------------------------------\u001b[0m",
      "\u001b[1;31mKeyboardInterrupt\u001b[0m                         Traceback (most recent call last)",
      "Cell \u001b[1;32mIn[21], line 64\u001b[0m\n\u001b[0;32m     61\u001b[0m     \u001b[38;5;28mprint\u001b[39m(\u001b[38;5;124m\"\u001b[39m\u001b[38;5;124mFin del Juego\u001b[39m\u001b[38;5;124m\"\u001b[39m)\n\u001b[0;32m     63\u001b[0m \u001b[38;5;28;01mif\u001b[39;00m(\u001b[38;5;18m__name__\u001b[39m\u001b[38;5;241m==\u001b[39m \u001b[38;5;124m\"\u001b[39m\u001b[38;5;124m__main__\u001b[39m\u001b[38;5;124m\"\u001b[39m):\n\u001b[1;32m---> 64\u001b[0m  jugar()\n",
      "Cell \u001b[1;32mIn[21], line 49\u001b[0m, in \u001b[0;36mjugar\u001b[1;34m()\u001b[0m\n\u001b[0;32m     47\u001b[0m \u001b[38;5;28mprint\u001b[39m(letras_acertadas)\n\u001b[0;32m     48\u001b[0m \u001b[38;5;28;01mwhile\u001b[39;00m ( \u001b[38;5;129;01mnot\u001b[39;00m ahorcado \u001b[38;5;129;01mand\u001b[39;00m \u001b[38;5;129;01mnot\u001b[39;00m acerto ):\n\u001b[1;32m---> 49\u001b[0m     leer_entrada()\n\u001b[0;32m     50\u001b[0m     \u001b[38;5;28;01mif\u001b[39;00m entrada \u001b[38;5;129;01min\u001b[39;00m palabra_secreta:\n\u001b[0;32m     51\u001b[0m        marcar_entrada_correcta(entrada,palabra_secreta,letras_acertadas)  \n",
      "Cell \u001b[1;32mIn[21], line 27\u001b[0m, in \u001b[0;36mleer_entrada\u001b[1;34m()\u001b[0m\n\u001b[0;32m     26\u001b[0m \u001b[38;5;28;01mdef\u001b[39;00m \u001b[38;5;21mleer_entrada\u001b[39m():\n\u001b[1;32m---> 27\u001b[0m     entrada\u001b[38;5;241m=\u001b[39m\u001b[38;5;28minput\u001b[39m (\u001b[38;5;124m\"\u001b[39m\u001b[38;5;124mingrese una letra...\u001b[39m\u001b[38;5;124m\"\u001b[39m)\n\u001b[0;32m     28\u001b[0m     entrada\u001b[38;5;241m=\u001b[39mentrada\u001b[38;5;241m.\u001b[39mstrip()\n\u001b[0;32m     29\u001b[0m     entrada\u001b[38;5;241m=\u001b[39mentrada\u001b[38;5;241m.\u001b[39mlower()\n",
      "File \u001b[1;32m~\\Anaconda\\Lib\\site-packages\\ipykernel\\kernelbase.py:1175\u001b[0m, in \u001b[0;36mKernel.raw_input\u001b[1;34m(self, prompt)\u001b[0m\n\u001b[0;32m   1171\u001b[0m \u001b[38;5;28;01mif\u001b[39;00m \u001b[38;5;129;01mnot\u001b[39;00m \u001b[38;5;28mself\u001b[39m\u001b[38;5;241m.\u001b[39m_allow_stdin:\n\u001b[0;32m   1172\u001b[0m     \u001b[38;5;28;01mraise\u001b[39;00m StdinNotImplementedError(\n\u001b[0;32m   1173\u001b[0m         \u001b[38;5;124m\"\u001b[39m\u001b[38;5;124mraw_input was called, but this frontend does not support input requests.\u001b[39m\u001b[38;5;124m\"\u001b[39m\n\u001b[0;32m   1174\u001b[0m     )\n\u001b[1;32m-> 1175\u001b[0m \u001b[38;5;28;01mreturn\u001b[39;00m \u001b[38;5;28mself\u001b[39m\u001b[38;5;241m.\u001b[39m_input_request(\n\u001b[0;32m   1176\u001b[0m     \u001b[38;5;28mstr\u001b[39m(prompt),\n\u001b[0;32m   1177\u001b[0m     \u001b[38;5;28mself\u001b[39m\u001b[38;5;241m.\u001b[39m_parent_ident[\u001b[38;5;124m\"\u001b[39m\u001b[38;5;124mshell\u001b[39m\u001b[38;5;124m\"\u001b[39m],\n\u001b[0;32m   1178\u001b[0m     \u001b[38;5;28mself\u001b[39m\u001b[38;5;241m.\u001b[39mget_parent(\u001b[38;5;124m\"\u001b[39m\u001b[38;5;124mshell\u001b[39m\u001b[38;5;124m\"\u001b[39m),\n\u001b[0;32m   1179\u001b[0m     password\u001b[38;5;241m=\u001b[39m\u001b[38;5;28;01mFalse\u001b[39;00m,\n\u001b[0;32m   1180\u001b[0m )\n",
      "File \u001b[1;32m~\\Anaconda\\Lib\\site-packages\\ipykernel\\kernelbase.py:1217\u001b[0m, in \u001b[0;36mKernel._input_request\u001b[1;34m(self, prompt, ident, parent, password)\u001b[0m\n\u001b[0;32m   1214\u001b[0m             \u001b[38;5;28;01mbreak\u001b[39;00m\n\u001b[0;32m   1215\u001b[0m \u001b[38;5;28;01mexcept\u001b[39;00m \u001b[38;5;167;01mKeyboardInterrupt\u001b[39;00m:\n\u001b[0;32m   1216\u001b[0m     \u001b[38;5;66;03m# re-raise KeyboardInterrupt, to truncate traceback\u001b[39;00m\n\u001b[1;32m-> 1217\u001b[0m     \u001b[38;5;28;01mraise\u001b[39;00m \u001b[38;5;167;01mKeyboardInterrupt\u001b[39;00m(\u001b[38;5;124m\"\u001b[39m\u001b[38;5;124mInterrupted by user\u001b[39m\u001b[38;5;124m\"\u001b[39m) \u001b[38;5;28;01mfrom\u001b[39;00m \u001b[38;5;28;01mNone\u001b[39;00m\n\u001b[0;32m   1218\u001b[0m \u001b[38;5;28;01mexcept\u001b[39;00m \u001b[38;5;167;01mException\u001b[39;00m:\n\u001b[0;32m   1219\u001b[0m     \u001b[38;5;28mself\u001b[39m\u001b[38;5;241m.\u001b[39mlog\u001b[38;5;241m.\u001b[39mwarning(\u001b[38;5;124m\"\u001b[39m\u001b[38;5;124mInvalid Message:\u001b[39m\u001b[38;5;124m\"\u001b[39m, exc_info\u001b[38;5;241m=\u001b[39m\u001b[38;5;28;01mTrue\u001b[39;00m)\n",
      "\u001b[1;31mKeyboardInterrupt\u001b[0m: Interrupted by user"
     ]
    }
   ],
   "source": [
    "import random\n",
    "\n",
    "\n",
    "def imprimir_mensaje_inicial():\n",
    "    print('================================')\n",
    "    print('Bienvenido al Juego del Ahorcado')\n",
    "    print('================================')\n",
    "\n",
    "def definir_palabra_secreta():\n",
    "    archivo=open('palabra.txt','r')\n",
    "    palabra=[]\n",
    "    for linea in archivo:\n",
    "        linea=linea.strip()\n",
    "        palabra.append(linea)\n",
    "\n",
    "    archivo.close()\n",
    "    numero=random.randrange(0,len(palabra))\n",
    "    palabra_secreta = palabra[numero].lower()\n",
    "    return palabra_secreta\n",
    "\n",
    "def medir_largo_palabra(palabra_secreta):\n",
    "    return len(palabra_secreta)\n",
    "\n",
    "def inicializar_letras_acertadas(palabra_secreta):\n",
    "    return ['_' for elemento in palabra_secreta]\n",
    "def leer_entrada():\n",
    "    entrada=input (\"ingrese una letra...\")\n",
    "    entrada=entrada.strip()\n",
    "    entrada=entrada.lower()\n",
    "    return entrada\n",
    "def marcar_entrada_correcta(entrada,palabra_secreta,letras_acertadas):\n",
    "    indice = 0\n",
    "    for letra in palabra_secreta:\n",
    "        if(entrada==letra):\n",
    "            letras_acertadas[indice] = letra\n",
    "        indice = indice + 1 \n",
    "\n",
    "def jugar ():\n",
    "    imprimir_mensaje_inicial()\n",
    "    palabra_secreta=definir_palabra_secreta()\n",
    "    letras_acertadas=inicializar_letras_acertadas(palabra_secreta)\n",
    "    \n",
    "    ahorcado = False\n",
    "    acerto = False\n",
    "    errores=0   # contador de errorres\n",
    "    \n",
    "    print(letras_acertadas)\n",
    "    while ( not ahorcado and not acerto ):\n",
    "        entrada = leer_entrada()\n",
    "        if entrada in palabra_secreta:\n",
    "           marcar_entrada_correcta(entrada,palabra_secreta,letras_acertadas)  \n",
    "        else:\n",
    "            errores += 1\n",
    "        ahorcado=errores== medir_largo_palabra(palabra_secreta)\n",
    "        acerto= \"_\" not in letras_acertadas\n",
    "        print(letras_acertadas)       \n",
    "    if(acerto):\n",
    "        print('Felicidades ganaste!!!')\n",
    "    else:\n",
    "        print('lo siento perdiste!!!')\n",
    "    print(\"Fin del Juego\")\n",
    "    \n",
    "if(__name__== \"__main__\"):\n",
    " jugar()"
   ]
  },
  {
   "cell_type": "code",
   "execution_count": null,
   "metadata": {},
   "outputs": [
    {
     "name": "stdout",
     "output_type": "stream",
     "text": [
      "================================\n",
      "Bienvenido al Juego del Ahorcado\n",
      "================================\n",
      "5\n",
      "['_', '_', '_', '_', '_']\n"
     ]
    }
   ],
   "source": [
    "import random\n",
    "\n",
    "\n",
    "def imprimir_mensaje_inicial():\n",
    "    print('================================')\n",
    "    print('Bienvenido al Juego del Ahorcado')\n",
    "    print('================================')\n",
    "\n",
    "def definir_palabra_secreta():\n",
    "    archivo = open (\"palabras.txt\",\"r\")\n",
    "    palabras = []\n",
    "    for linea in archivo:\n",
    "        linea = linea.strip()\n",
    "        palabras.append(linea)\n",
    "        \n",
    "    archivo.close()\n",
    "    numero = random.randrange(0,len(palabras))          #Indice para las palabras\n",
    "    palabra_secreta = palabras[numero].lower()\n",
    "    \n",
    "    palabra_secreta = \"fresa\"\n",
    "    \n",
    "    return palabra_secreta\n",
    "\n",
    "\n",
    "def medir_largo_palabra(palabra_secreta):\n",
    "    return len(palabra_secreta)\n",
    "\n",
    "def inicializar_letras_acertadas(palabra_secreta):\n",
    "    return ['_' for elemento in palabra_secreta]\n",
    "def leer_entrada():\n",
    "    entrada=input (\"ingrese una letra...\")\n",
    "    entrada=entrada.strip()\n",
    "    entrada=entrada.lower()\n",
    "    return entrada\n",
    "\n",
    "\n",
    "def marcar_entrada_correcta(entrada,palabra_secreta,letras_acertadas):\n",
    "    indice = 0\n",
    "    for letra in palabra_secreta:\n",
    "        if(entrada==letra):\n",
    "            letras_acertadas[indice] = letra\n",
    "        indice = indice + 1 \n",
    "        \n",
    "def imprimir_mensaje_ganador():\n",
    "    print(\"\\n Felicitaciones, ganaste el juego!\")\n",
    "    print(\"       _      \")\n",
    "    print(\"      '.=====.'     \")\n",
    "    print(\"      .-\\\\:      /-.    \")\n",
    "    print(\"     | (|:.     |) |    \")\n",
    "    print(\"      '-|:.     |-'     \")\n",
    "    print(\"        \\\\::.    /      \")\n",
    "    print(\"         '::. .'        \")\n",
    "    print(\"           ) (          \")\n",
    "    print(\"         .' '.        \")\n",
    "    print(\"        '-------'       \")        \n",
    "\n",
    "def imprimir_mensaje_perdedor(palabra_secreta):\n",
    "    print(\"\\n Lo siento, fuiste ahorcado!\")\n",
    "    print(\"La palabra era {}\".format(palabra_secreta))\n",
    "    print(\"    _____         \")\n",
    "    print(\"   /               \\       \")\n",
    "    print(\"  /                 \\      \")\n",
    "    print(\"//                   \\/\\  \")\n",
    "    print(\"\\|   XXXX     XXXX   | /   \")\n",
    "    print(\" |   XXXX     XXXX   |/     \")\n",
    "    print(\" |   XXX       XXX   |      \")\n",
    "    print(\" |                   |      \")\n",
    "    print(\" \\_      XXX      _/     \")\n",
    "    print(\"   |\\     XXX     /|       \")\n",
    "    print(\"   | |           | |        \")\n",
    "    print(\"   | I I I I I I I |        \")\n",
    "    print(\"   |  I I I I I I  |        \")\n",
    "    print(\"   \\_             _/       \")\n",
    "    print(\"     \\_         _/         \")\n",
    "    print(\"       \\___/           \") \n",
    "    \n",
    "def dibujar_ahorcado(errores,pasos_dibujo):\n",
    "    print(\"  _     \")\n",
    "    print(\" |/      |    \")\n",
    "\n",
    "    if(errores == 1):\n",
    "        print(\" |      (_)   \")\n",
    "        print(\" |            \")\n",
    "        print(\" |            \")\n",
    "        print(\" |            \")\n",
    "\n",
    "    if(errores == 2):\n",
    "        print(\" |      (_)   \")\n",
    "        print(\" |      \\     \")\n",
    "        print(\" |            \")\n",
    "        print(\" |            \")\n",
    "\n",
    "    if(errores == 3):\n",
    "        print(\" |      (_)   \")\n",
    "        print(\" |      \\|    \")\n",
    "        print(\" |            \")\n",
    "        print(\" |            \")\n",
    "\n",
    "    if(errores == 4):\n",
    "        print(\" |      (_)   \")\n",
    "        print(\" |      \\|/   \")\n",
    "        print(\" |            \")\n",
    "        print(\" |            \")\n",
    "\n",
    "    if(errores == 5):\n",
    "        print(\" |      (_)   \")\n",
    "        print(\" |      \\|/   \")\n",
    "        print(\" |       |    \")\n",
    "        print(\" |            \")\n",
    "\n",
    "    if(errores == 6):\n",
    "        print(\" |      (_)   \")\n",
    "        print(\" |      \\|/   \")\n",
    "        print(\" |       |    \")\n",
    "        print(\" |      /     \")\n",
    "\n",
    "    if (errores == 7):\n",
    "        print(\" |      (_)   \")\n",
    "        print(\" |      \\|/   \")\n",
    "        print(\" |       |    \")\n",
    "        print(\" |      / \\   \")\n",
    "\n",
    "    print(\" |            \")\n",
    "    print(\"|__         \")\n",
    "    print()\n",
    "\n",
    "def dibujar_ahorcado2(errores,pasos_dibujo):\n",
    "    print(\"  _     \")\n",
    "    print(\" |/      |    \")\n",
    "    \n",
    "    for i in pasos_dibujo:\n",
    "        \n",
    "        \n",
    "    \n",
    "    \n",
    "    if errores == 1:\n",
    "        for i in range(len(pasos_dibujo)):\n",
    "            pasos = pasos_dibujo[i]\n",
    "            print('pasos = ()'.format(pasos))\n",
    "        return pasos\n",
    "    \n",
    "    \n",
    "    if(errores == 1):\n",
    "        dibujar_parte1\n",
    "       \n",
    "\n",
    "    if(errores == 2):\n",
    "        \n",
    "\n",
    "    if(errores == 3):\n",
    "        print(\" |      (_)   \")\n",
    "        print(\" |      \\|    \")\n",
    "        print(\" |            \")\n",
    "        print(\" |            \")\n",
    "\n",
    "    if(errores == 4):\n",
    "        print(\" |      (_)   \")\n",
    "        print(\" |      \\|/   \")\n",
    "        print(\" |            \")\n",
    "        print(\" |            \")\n",
    "\n",
    "    if(errores == 5):\n",
    "        print(\" |      (_)   \")\n",
    "        print(\" |      \\|/   \")\n",
    "        print(\" |       |    \")\n",
    "        print(\" |            \")\n",
    "\n",
    "    if(errores == 6):\n",
    "        print(\" |      (_)   \")\n",
    "        print(\" |      \\|/   \")\n",
    "        print(\" |       |    \")\n",
    "        print(\" |      /     \")\n",
    "\n",
    "    if (errores == 7):\n",
    "        print(\" |      (_)   \")\n",
    "        print(\" |      \\|/   \")\n",
    "        print(\" |       |    \")\n",
    "        print(\" |      / \\   \")\n",
    "\n",
    "    print(\" |            \")\n",
    "    print(\"|__         \")\n",
    "    print()\n",
    "    \n",
    "def dibujar_parte1():\n",
    "    print(\" |      (_)   \")\n",
    "    print(\" |            \")\n",
    "    print(\" |            \")\n",
    "    print(\" |            \")\n",
    "\n",
    "def dibujar_parte2():\n",
    "    print(\" |      (_)   \")\n",
    "    print(\" |      \\     \")\n",
    "    print(\" |            \")\n",
    "    print(\" |            \") \n",
    "    \n",
    "\n",
    "def calcular_iteraciones_dibujo(largo_palabra, pasos_dibujo):\n",
    "    #Rellenar con unos\n",
    "    for i in range(largo_palabra):\n",
    "        pasos_dibujo.append(1) #Agregamos un 1 a la lista\n",
    "    sumar_pasos = sum(pasos_dibujo) #Sumamos el contenido de la lista\n",
    "    while(sumar_pasos<7 and largo_palabra>7):\n",
    "        for i in range(largo_palabra):\n",
    "            pasos_dibujo[i] = pasos_dibujo[i]+1\n",
    "            sumar_pasos =sum(pasos_dibujo)\n",
    "            if(sumar_pasos == 7):\n",
    "                break\n",
    "    while(sumar_pasos<7 and largo_palabra > 7):\n",
    "        for i in range(largo_palabra):\n",
    "            if i % 2 != 0:\n",
    "                pasos_dibujo[i] = 0\n",
    "                sumar_pasos = sum(pasos_dibujo)\n",
    "            if(sumar_pasos == 7):\n",
    "                break\n",
    "    return sumar_pasos\n",
    "\n",
    "    \n",
    "def jugar ():\n",
    "    imprimir_mensaje_inicial()\n",
    "    palabra_secreta=definir_palabra_secreta()\n",
    "    letras_acertadas=inicializar_letras_acertadas(palabra_secreta)\n",
    "    \n",
    "    ahorcado = False\n",
    "    acerto = False\n",
    "    errores=0   # contador de errorres\n",
    "    \n",
    "    pasos_dibujo = []\n",
    "    pasos_dibujo = calcular_iteraciones_dibujo(len(palabra_secreta), pasos_dibujo)\n",
    "    print(pasos_dibujo)\n",
    "    \n",
    "    print(letras_acertadas)\n",
    "    while ( not ahorcado and not acerto ):\n",
    "        entrada = leer_entrada()\n",
    "        if entrada in palabra_secreta:\n",
    "            marcar_entrada_correcta(entrada,palabra_secreta,letras_acertadas)  \n",
    "        else:\n",
    "            errores += 1\n",
    "            dibujar_ahorcado(errores)\n",
    "   \n",
    "        ahorcado=errores== medir_largo_palabra(palabra_secreta)\n",
    "        acerto= \"_\" not in letras_acertadas\n",
    "        print(letras_acertadas)       \n",
    "    if(acerto):\n",
    "        imprimir_mensaje_ganador()\n",
    "    else:\n",
    "        imprimir_mensaje_perdedor(palabra_secreta)\n",
    "    \n",
    "    \n",
    "if(__name__== \"__main__\"):\n",
    "    jugar()"
   ]
  },
  {
   "cell_type": "code",
   "execution_count": null,
   "metadata": {},
   "outputs": [],
   "source": []
  }
 ],
 "metadata": {
  "colab": {
   "provenance": []
  },
  "kernelspec": {
   "display_name": "Python 3 (ipykernel)",
   "language": "python",
   "name": "python3"
  },
  "language_info": {
   "codemirror_mode": {
    "name": "ipython",
    "version": 3
   },
   "file_extension": ".py",
   "mimetype": "text/x-python",
   "name": "python",
   "nbconvert_exporter": "python",
   "pygments_lexer": "ipython3",
   "version": "3.11.4"
  }
 },
 "nbformat": 4,
 "nbformat_minor": 1
}
